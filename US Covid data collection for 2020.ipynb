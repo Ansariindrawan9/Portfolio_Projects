{
  "nbformat": 4,
  "nbformat_minor": 0,
  "metadata": {
    "colab": {
      "provenance": []
    },
    "kernelspec": {
      "name": "python3",
      "display_name": "Python 3"
    },
    "language_info": {
      "name": "python"
    }
  },
  "cells": [
    {
      "cell_type": "markdown",
      "source": [
        "#Sumber Data\n",
        "## Cloud google BigQuery \n"
      ],
      "metadata": {
        "id": "Wgm2cj6It1N-"
      }
    },
    {
      "cell_type": "code",
      "source": [
        "'''\n",
        "SELECT * \n",
        "FROM `bigquery-public-data.covid19_jhu_csse_eu.summary` \n",
        "'''"
      ],
      "metadata": {
        "id": "MABRbqEAuXC9",
        "colab": {
          "base_uri": "https://localhost:8080/",
          "height": 36
        },
        "outputId": "2da2968e-9752-4599-9366-535ac5fc0c8f"
      },
      "execution_count": null,
      "outputs": [
        {
          "output_type": "execute_result",
          "data": {
            "text/plain": [
              "'\\nSELECT * \\nFROM `bigquery-public-data.covid19_jhu_csse_eu.summary` \\n'"
            ],
            "application/vnd.google.colaboratory.intrinsic+json": {
              "type": "string"
            }
          },
          "metadata": {},
          "execution_count": 1
        }
      ]
    },
    {
      "cell_type": "markdown",
      "source": [
        "# i. Objective\n",
        "\n",
        "Menampilkan pendataan data covid US selama tahun 2020\n",
        "\n",
        "## Problem statement\n",
        "- bagaimana trend covid yang terjadi pada negara bagian Texas \n",
        "- bagaimana kasus Covid di US pada tahun 2020 berdasarkan data masing-masing \n",
        "admin2 \n",
        "- bagaimana kasus Covid US, pada masing masing negara bagian selama tahun 2020 dengan admin2 adalah 'Washington'\n"
      ],
      "metadata": {
        "id": "gR3i8BN1VHD4"
      }
    },
    {
      "cell_type": "markdown",
      "source": [
        "# ii.  import pustaka "
      ],
      "metadata": {
        "id": "VKCMJLHPOCFC"
      }
    },
    {
      "cell_type": "code",
      "execution_count": null,
      "metadata": {
        "id": "JhlYDJyeUokG"
      },
      "outputs": [],
      "source": [
        "import pandas as pd\n",
        "import numpy as np"
      ]
    },
    {
      "cell_type": "markdown",
      "source": [
        "# iii. Data Loading"
      ],
      "metadata": {
        "id": "N7F0eqZtO9US"
      }
    },
    {
      "cell_type": "code",
      "source": [
        "from google.colab import drive\n",
        "drive.mount('/content/drive')"
      ],
      "metadata": {
        "colab": {
          "base_uri": "https://localhost:8080/"
        },
        "id": "dq-tZTW47qax",
        "outputId": "ae5ca8c4-69f3-426b-da8f-a91184f1698e"
      },
      "execution_count": null,
      "outputs": [
        {
          "output_type": "stream",
          "name": "stdout",
          "text": [
            "Drive already mounted at /content/drive; to attempt to forcibly remount, call drive.mount(\"/content/drive\", force_remount=True).\n"
          ]
        }
      ]
    },
    {
      "cell_type": "code",
      "source": [
        "#membaca file yang yang sudah diupload\n",
        "we = pd.read_csv('/content/drive/MyDrive/bq-results-20230331-093519-1680255881116/h8dsft_P0GC1_AnsariIndrawan.csv')"
      ],
      "metadata": {
        "id": "c-946ysLYof2"
      },
      "execution_count": null,
      "outputs": []
    },
    {
      "cell_type": "code",
      "source": [
        "#menampilkan 5 baris pertama dari data tabel\n",
        "we.head( )"
      ],
      "metadata": {
        "colab": {
          "base_uri": "https://localhost:8080/",
          "height": 206
        },
        "id": "7dXWyGHYwqTM",
        "outputId": "b019d42c-dbf9-4e8a-dea4-8e5ccab3fbc6"
      },
      "execution_count": null,
      "outputs": [
        {
          "output_type": "execute_result",
          "data": {
            "text/plain": [
              "   province_state country_region        date   latitude  longitude  \\\n",
              "0        Virginia             US  2020-05-15  37.019097 -78.663141   \n",
              "1  North Carolina             US  2020-05-15  35.703944 -79.255415   \n",
              "2         Alabama             US  2020-05-15  34.178060 -85.606390   \n",
              "3           Texas             US  2020-05-15  31.837258 -95.165599   \n",
              "4        Virginia             US  2020-05-15  36.676700 -76.305457   \n",
              "\n",
              "                     location_geom  confirmed  deaths  recovered  active  \\\n",
              "0  POINT(-78.66314092 37.01909701)       11.0     0.0        0.0    11.0   \n",
              "1  POINT(-79.25541492 35.70394416)      495.0    24.0        0.0   471.0   \n",
              "2  POINT(-85.60638968 34.17805983)       26.0     0.0        0.0    26.0   \n",
              "3    POINT(-95.16559897 31.837258)       31.0     1.0        0.0    30.0   \n",
              "4  POINT(-76.30545744 36.67670048)      379.0    10.0        0.0   369.0   \n",
              "\n",
              "      fips      admin2                 combined_key  \n",
              "0  51037.0   Charlotte      Charlotte, Virginia, US  \n",
              "1  37037.0     Chatham  Chatham, North Carolina, US  \n",
              "2   1019.0    Cherokee        Cherokee, Alabama, US  \n",
              "3  48073.0    Cherokee          Cherokee, Texas, US  \n",
              "4  51550.0  Chesapeake     Chesapeake, Virginia, US  "
            ],
            "text/html": [
              "\n",
              "  <div id=\"df-e81a3acf-6892-4ddd-b3a3-feb0e1b740d6\">\n",
              "    <div class=\"colab-df-container\">\n",
              "      <div>\n",
              "<style scoped>\n",
              "    .dataframe tbody tr th:only-of-type {\n",
              "        vertical-align: middle;\n",
              "    }\n",
              "\n",
              "    .dataframe tbody tr th {\n",
              "        vertical-align: top;\n",
              "    }\n",
              "\n",
              "    .dataframe thead th {\n",
              "        text-align: right;\n",
              "    }\n",
              "</style>\n",
              "<table border=\"1\" class=\"dataframe\">\n",
              "  <thead>\n",
              "    <tr style=\"text-align: right;\">\n",
              "      <th></th>\n",
              "      <th>province_state</th>\n",
              "      <th>country_region</th>\n",
              "      <th>date</th>\n",
              "      <th>latitude</th>\n",
              "      <th>longitude</th>\n",
              "      <th>location_geom</th>\n",
              "      <th>confirmed</th>\n",
              "      <th>deaths</th>\n",
              "      <th>recovered</th>\n",
              "      <th>active</th>\n",
              "      <th>fips</th>\n",
              "      <th>admin2</th>\n",
              "      <th>combined_key</th>\n",
              "    </tr>\n",
              "  </thead>\n",
              "  <tbody>\n",
              "    <tr>\n",
              "      <th>0</th>\n",
              "      <td>Virginia</td>\n",
              "      <td>US</td>\n",
              "      <td>2020-05-15</td>\n",
              "      <td>37.019097</td>\n",
              "      <td>-78.663141</td>\n",
              "      <td>POINT(-78.66314092 37.01909701)</td>\n",
              "      <td>11.0</td>\n",
              "      <td>0.0</td>\n",
              "      <td>0.0</td>\n",
              "      <td>11.0</td>\n",
              "      <td>51037.0</td>\n",
              "      <td>Charlotte</td>\n",
              "      <td>Charlotte, Virginia, US</td>\n",
              "    </tr>\n",
              "    <tr>\n",
              "      <th>1</th>\n",
              "      <td>North Carolina</td>\n",
              "      <td>US</td>\n",
              "      <td>2020-05-15</td>\n",
              "      <td>35.703944</td>\n",
              "      <td>-79.255415</td>\n",
              "      <td>POINT(-79.25541492 35.70394416)</td>\n",
              "      <td>495.0</td>\n",
              "      <td>24.0</td>\n",
              "      <td>0.0</td>\n",
              "      <td>471.0</td>\n",
              "      <td>37037.0</td>\n",
              "      <td>Chatham</td>\n",
              "      <td>Chatham, North Carolina, US</td>\n",
              "    </tr>\n",
              "    <tr>\n",
              "      <th>2</th>\n",
              "      <td>Alabama</td>\n",
              "      <td>US</td>\n",
              "      <td>2020-05-15</td>\n",
              "      <td>34.178060</td>\n",
              "      <td>-85.606390</td>\n",
              "      <td>POINT(-85.60638968 34.17805983)</td>\n",
              "      <td>26.0</td>\n",
              "      <td>0.0</td>\n",
              "      <td>0.0</td>\n",
              "      <td>26.0</td>\n",
              "      <td>1019.0</td>\n",
              "      <td>Cherokee</td>\n",
              "      <td>Cherokee, Alabama, US</td>\n",
              "    </tr>\n",
              "    <tr>\n",
              "      <th>3</th>\n",
              "      <td>Texas</td>\n",
              "      <td>US</td>\n",
              "      <td>2020-05-15</td>\n",
              "      <td>31.837258</td>\n",
              "      <td>-95.165599</td>\n",
              "      <td>POINT(-95.16559897 31.837258)</td>\n",
              "      <td>31.0</td>\n",
              "      <td>1.0</td>\n",
              "      <td>0.0</td>\n",
              "      <td>30.0</td>\n",
              "      <td>48073.0</td>\n",
              "      <td>Cherokee</td>\n",
              "      <td>Cherokee, Texas, US</td>\n",
              "    </tr>\n",
              "    <tr>\n",
              "      <th>4</th>\n",
              "      <td>Virginia</td>\n",
              "      <td>US</td>\n",
              "      <td>2020-05-15</td>\n",
              "      <td>36.676700</td>\n",
              "      <td>-76.305457</td>\n",
              "      <td>POINT(-76.30545744 36.67670048)</td>\n",
              "      <td>379.0</td>\n",
              "      <td>10.0</td>\n",
              "      <td>0.0</td>\n",
              "      <td>369.0</td>\n",
              "      <td>51550.0</td>\n",
              "      <td>Chesapeake</td>\n",
              "      <td>Chesapeake, Virginia, US</td>\n",
              "    </tr>\n",
              "  </tbody>\n",
              "</table>\n",
              "</div>\n",
              "      <button class=\"colab-df-convert\" onclick=\"convertToInteractive('df-e81a3acf-6892-4ddd-b3a3-feb0e1b740d6')\"\n",
              "              title=\"Convert this dataframe to an interactive table.\"\n",
              "              style=\"display:none;\">\n",
              "        \n",
              "  <svg xmlns=\"http://www.w3.org/2000/svg\" height=\"24px\"viewBox=\"0 0 24 24\"\n",
              "       width=\"24px\">\n",
              "    <path d=\"M0 0h24v24H0V0z\" fill=\"none\"/>\n",
              "    <path d=\"M18.56 5.44l.94 2.06.94-2.06 2.06-.94-2.06-.94-.94-2.06-.94 2.06-2.06.94zm-11 1L8.5 8.5l.94-2.06 2.06-.94-2.06-.94L8.5 2.5l-.94 2.06-2.06.94zm10 10l.94 2.06.94-2.06 2.06-.94-2.06-.94-.94-2.06-.94 2.06-2.06.94z\"/><path d=\"M17.41 7.96l-1.37-1.37c-.4-.4-.92-.59-1.43-.59-.52 0-1.04.2-1.43.59L10.3 9.45l-7.72 7.72c-.78.78-.78 2.05 0 2.83L4 21.41c.39.39.9.59 1.41.59.51 0 1.02-.2 1.41-.59l7.78-7.78 2.81-2.81c.8-.78.8-2.07 0-2.86zM5.41 20L4 18.59l7.72-7.72 1.47 1.35L5.41 20z\"/>\n",
              "  </svg>\n",
              "      </button>\n",
              "      \n",
              "  <style>\n",
              "    .colab-df-container {\n",
              "      display:flex;\n",
              "      flex-wrap:wrap;\n",
              "      gap: 12px;\n",
              "    }\n",
              "\n",
              "    .colab-df-convert {\n",
              "      background-color: #E8F0FE;\n",
              "      border: none;\n",
              "      border-radius: 50%;\n",
              "      cursor: pointer;\n",
              "      display: none;\n",
              "      fill: #1967D2;\n",
              "      height: 32px;\n",
              "      padding: 0 0 0 0;\n",
              "      width: 32px;\n",
              "    }\n",
              "\n",
              "    .colab-df-convert:hover {\n",
              "      background-color: #E2EBFA;\n",
              "      box-shadow: 0px 1px 2px rgba(60, 64, 67, 0.3), 0px 1px 3px 1px rgba(60, 64, 67, 0.15);\n",
              "      fill: #174EA6;\n",
              "    }\n",
              "\n",
              "    [theme=dark] .colab-df-convert {\n",
              "      background-color: #3B4455;\n",
              "      fill: #D2E3FC;\n",
              "    }\n",
              "\n",
              "    [theme=dark] .colab-df-convert:hover {\n",
              "      background-color: #434B5C;\n",
              "      box-shadow: 0px 1px 3px 1px rgba(0, 0, 0, 0.15);\n",
              "      filter: drop-shadow(0px 1px 2px rgba(0, 0, 0, 0.3));\n",
              "      fill: #FFFFFF;\n",
              "    }\n",
              "  </style>\n",
              "\n",
              "      <script>\n",
              "        const buttonEl =\n",
              "          document.querySelector('#df-e81a3acf-6892-4ddd-b3a3-feb0e1b740d6 button.colab-df-convert');\n",
              "        buttonEl.style.display =\n",
              "          google.colab.kernel.accessAllowed ? 'block' : 'none';\n",
              "\n",
              "        async function convertToInteractive(key) {\n",
              "          const element = document.querySelector('#df-e81a3acf-6892-4ddd-b3a3-feb0e1b740d6');\n",
              "          const dataTable =\n",
              "            await google.colab.kernel.invokeFunction('convertToInteractive',\n",
              "                                                     [key], {});\n",
              "          if (!dataTable) return;\n",
              "\n",
              "          const docLinkHtml = 'Like what you see? Visit the ' +\n",
              "            '<a target=\"_blank\" href=https://colab.research.google.com/notebooks/data_table.ipynb>data table notebook</a>'\n",
              "            + ' to learn more about interactive tables.';\n",
              "          element.innerHTML = '';\n",
              "          dataTable['output_type'] = 'display_data';\n",
              "          await google.colab.output.renderOutput(dataTable, element);\n",
              "          const docLink = document.createElement('div');\n",
              "          docLink.innerHTML = docLinkHtml;\n",
              "          element.appendChild(docLink);\n",
              "        }\n",
              "      </script>\n",
              "    </div>\n",
              "  </div>\n",
              "  "
            ]
          },
          "metadata": {},
          "execution_count": 5
        }
      ]
    },
    {
      "cell_type": "code",
      "source": [
        "#Menampilkan 5 baris akhir dari data tabel\n",
        "we.tail()"
      ],
      "metadata": {
        "colab": {
          "base_uri": "https://localhost:8080/",
          "height": 206
        },
        "id": "SmeDcooRvfwt",
        "outputId": "9d29c22d-300e-47f9-c237-dcc2ce5c4fb6"
      },
      "execution_count": null,
      "outputs": [
        {
          "output_type": "execute_result",
          "data": {
            "text/plain": [
              "        province_state country_region        date   latitude  longitude  \\\n",
              "4264075      Wisconsin             US  2022-09-29  42.679496 -89.602433   \n",
              "4264076      Wisconsin             US  2022-09-29  44.318649 -90.805668   \n",
              "4264077      Wisconsin             US  2022-09-29  43.906325 -91.114511   \n",
              "4264078      Wisconsin             US  2022-09-29  44.475587 -89.501530   \n",
              "4264079      Wisconsin             US  2022-09-29  43.425741 -89.949661   \n",
              "\n",
              "                           location_geom  confirmed  deaths  recovered  \\\n",
              "4264075   POINT(-89.60243287 42.6794956)    10764.0    60.0        NaN   \n",
              "4264076  POINT(-90.80566792 44.31864893)     6538.0    45.0        NaN   \n",
              "4264077  POINT(-91.11451093 43.90632465)    41002.0   198.0        NaN   \n",
              "4264078  POINT(-89.50152965 44.47558711)    21209.0   165.0        NaN   \n",
              "4264079  POINT(-89.94966132 43.42574087)    19382.0   146.0        NaN   \n",
              "\n",
              "         active     fips     admin2              combined_key  \n",
              "4264075     NaN  55045.0      Green      Green, Wisconsin, US  \n",
              "4264076     NaN  55053.0    Jackson    Jackson, Wisconsin, US  \n",
              "4264077     NaN  55063.0  La Crosse  La Crosse, Wisconsin, US  \n",
              "4264078     NaN  55097.0    Portage    Portage, Wisconsin, US  \n",
              "4264079     NaN  55111.0       Sauk       Sauk, Wisconsin, US  "
            ],
            "text/html": [
              "\n",
              "  <div id=\"df-b5669a8f-a2d1-4ec7-9fed-979565862daf\">\n",
              "    <div class=\"colab-df-container\">\n",
              "      <div>\n",
              "<style scoped>\n",
              "    .dataframe tbody tr th:only-of-type {\n",
              "        vertical-align: middle;\n",
              "    }\n",
              "\n",
              "    .dataframe tbody tr th {\n",
              "        vertical-align: top;\n",
              "    }\n",
              "\n",
              "    .dataframe thead th {\n",
              "        text-align: right;\n",
              "    }\n",
              "</style>\n",
              "<table border=\"1\" class=\"dataframe\">\n",
              "  <thead>\n",
              "    <tr style=\"text-align: right;\">\n",
              "      <th></th>\n",
              "      <th>province_state</th>\n",
              "      <th>country_region</th>\n",
              "      <th>date</th>\n",
              "      <th>latitude</th>\n",
              "      <th>longitude</th>\n",
              "      <th>location_geom</th>\n",
              "      <th>confirmed</th>\n",
              "      <th>deaths</th>\n",
              "      <th>recovered</th>\n",
              "      <th>active</th>\n",
              "      <th>fips</th>\n",
              "      <th>admin2</th>\n",
              "      <th>combined_key</th>\n",
              "    </tr>\n",
              "  </thead>\n",
              "  <tbody>\n",
              "    <tr>\n",
              "      <th>4264075</th>\n",
              "      <td>Wisconsin</td>\n",
              "      <td>US</td>\n",
              "      <td>2022-09-29</td>\n",
              "      <td>42.679496</td>\n",
              "      <td>-89.602433</td>\n",
              "      <td>POINT(-89.60243287 42.6794956)</td>\n",
              "      <td>10764.0</td>\n",
              "      <td>60.0</td>\n",
              "      <td>NaN</td>\n",
              "      <td>NaN</td>\n",
              "      <td>55045.0</td>\n",
              "      <td>Green</td>\n",
              "      <td>Green, Wisconsin, US</td>\n",
              "    </tr>\n",
              "    <tr>\n",
              "      <th>4264076</th>\n",
              "      <td>Wisconsin</td>\n",
              "      <td>US</td>\n",
              "      <td>2022-09-29</td>\n",
              "      <td>44.318649</td>\n",
              "      <td>-90.805668</td>\n",
              "      <td>POINT(-90.80566792 44.31864893)</td>\n",
              "      <td>6538.0</td>\n",
              "      <td>45.0</td>\n",
              "      <td>NaN</td>\n",
              "      <td>NaN</td>\n",
              "      <td>55053.0</td>\n",
              "      <td>Jackson</td>\n",
              "      <td>Jackson, Wisconsin, US</td>\n",
              "    </tr>\n",
              "    <tr>\n",
              "      <th>4264077</th>\n",
              "      <td>Wisconsin</td>\n",
              "      <td>US</td>\n",
              "      <td>2022-09-29</td>\n",
              "      <td>43.906325</td>\n",
              "      <td>-91.114511</td>\n",
              "      <td>POINT(-91.11451093 43.90632465)</td>\n",
              "      <td>41002.0</td>\n",
              "      <td>198.0</td>\n",
              "      <td>NaN</td>\n",
              "      <td>NaN</td>\n",
              "      <td>55063.0</td>\n",
              "      <td>La Crosse</td>\n",
              "      <td>La Crosse, Wisconsin, US</td>\n",
              "    </tr>\n",
              "    <tr>\n",
              "      <th>4264078</th>\n",
              "      <td>Wisconsin</td>\n",
              "      <td>US</td>\n",
              "      <td>2022-09-29</td>\n",
              "      <td>44.475587</td>\n",
              "      <td>-89.501530</td>\n",
              "      <td>POINT(-89.50152965 44.47558711)</td>\n",
              "      <td>21209.0</td>\n",
              "      <td>165.0</td>\n",
              "      <td>NaN</td>\n",
              "      <td>NaN</td>\n",
              "      <td>55097.0</td>\n",
              "      <td>Portage</td>\n",
              "      <td>Portage, Wisconsin, US</td>\n",
              "    </tr>\n",
              "    <tr>\n",
              "      <th>4264079</th>\n",
              "      <td>Wisconsin</td>\n",
              "      <td>US</td>\n",
              "      <td>2022-09-29</td>\n",
              "      <td>43.425741</td>\n",
              "      <td>-89.949661</td>\n",
              "      <td>POINT(-89.94966132 43.42574087)</td>\n",
              "      <td>19382.0</td>\n",
              "      <td>146.0</td>\n",
              "      <td>NaN</td>\n",
              "      <td>NaN</td>\n",
              "      <td>55111.0</td>\n",
              "      <td>Sauk</td>\n",
              "      <td>Sauk, Wisconsin, US</td>\n",
              "    </tr>\n",
              "  </tbody>\n",
              "</table>\n",
              "</div>\n",
              "      <button class=\"colab-df-convert\" onclick=\"convertToInteractive('df-b5669a8f-a2d1-4ec7-9fed-979565862daf')\"\n",
              "              title=\"Convert this dataframe to an interactive table.\"\n",
              "              style=\"display:none;\">\n",
              "        \n",
              "  <svg xmlns=\"http://www.w3.org/2000/svg\" height=\"24px\"viewBox=\"0 0 24 24\"\n",
              "       width=\"24px\">\n",
              "    <path d=\"M0 0h24v24H0V0z\" fill=\"none\"/>\n",
              "    <path d=\"M18.56 5.44l.94 2.06.94-2.06 2.06-.94-2.06-.94-.94-2.06-.94 2.06-2.06.94zm-11 1L8.5 8.5l.94-2.06 2.06-.94-2.06-.94L8.5 2.5l-.94 2.06-2.06.94zm10 10l.94 2.06.94-2.06 2.06-.94-2.06-.94-.94-2.06-.94 2.06-2.06.94z\"/><path d=\"M17.41 7.96l-1.37-1.37c-.4-.4-.92-.59-1.43-.59-.52 0-1.04.2-1.43.59L10.3 9.45l-7.72 7.72c-.78.78-.78 2.05 0 2.83L4 21.41c.39.39.9.59 1.41.59.51 0 1.02-.2 1.41-.59l7.78-7.78 2.81-2.81c.8-.78.8-2.07 0-2.86zM5.41 20L4 18.59l7.72-7.72 1.47 1.35L5.41 20z\"/>\n",
              "  </svg>\n",
              "      </button>\n",
              "      \n",
              "  <style>\n",
              "    .colab-df-container {\n",
              "      display:flex;\n",
              "      flex-wrap:wrap;\n",
              "      gap: 12px;\n",
              "    }\n",
              "\n",
              "    .colab-df-convert {\n",
              "      background-color: #E8F0FE;\n",
              "      border: none;\n",
              "      border-radius: 50%;\n",
              "      cursor: pointer;\n",
              "      display: none;\n",
              "      fill: #1967D2;\n",
              "      height: 32px;\n",
              "      padding: 0 0 0 0;\n",
              "      width: 32px;\n",
              "    }\n",
              "\n",
              "    .colab-df-convert:hover {\n",
              "      background-color: #E2EBFA;\n",
              "      box-shadow: 0px 1px 2px rgba(60, 64, 67, 0.3), 0px 1px 3px 1px rgba(60, 64, 67, 0.15);\n",
              "      fill: #174EA6;\n",
              "    }\n",
              "\n",
              "    [theme=dark] .colab-df-convert {\n",
              "      background-color: #3B4455;\n",
              "      fill: #D2E3FC;\n",
              "    }\n",
              "\n",
              "    [theme=dark] .colab-df-convert:hover {\n",
              "      background-color: #434B5C;\n",
              "      box-shadow: 0px 1px 3px 1px rgba(0, 0, 0, 0.15);\n",
              "      filter: drop-shadow(0px 1px 2px rgba(0, 0, 0, 0.3));\n",
              "      fill: #FFFFFF;\n",
              "    }\n",
              "  </style>\n",
              "\n",
              "      <script>\n",
              "        const buttonEl =\n",
              "          document.querySelector('#df-b5669a8f-a2d1-4ec7-9fed-979565862daf button.colab-df-convert');\n",
              "        buttonEl.style.display =\n",
              "          google.colab.kernel.accessAllowed ? 'block' : 'none';\n",
              "\n",
              "        async function convertToInteractive(key) {\n",
              "          const element = document.querySelector('#df-b5669a8f-a2d1-4ec7-9fed-979565862daf');\n",
              "          const dataTable =\n",
              "            await google.colab.kernel.invokeFunction('convertToInteractive',\n",
              "                                                     [key], {});\n",
              "          if (!dataTable) return;\n",
              "\n",
              "          const docLinkHtml = 'Like what you see? Visit the ' +\n",
              "            '<a target=\"_blank\" href=https://colab.research.google.com/notebooks/data_table.ipynb>data table notebook</a>'\n",
              "            + ' to learn more about interactive tables.';\n",
              "          element.innerHTML = '';\n",
              "          dataTable['output_type'] = 'display_data';\n",
              "          await google.colab.output.renderOutput(dataTable, element);\n",
              "          const docLink = document.createElement('div');\n",
              "          docLink.innerHTML = docLinkHtml;\n",
              "          element.appendChild(docLink);\n",
              "        }\n",
              "      </script>\n",
              "    </div>\n",
              "  </div>\n",
              "  "
            ]
          },
          "metadata": {},
          "execution_count": 6
        }
      ]
    },
    {
      "cell_type": "code",
      "source": [
        "#melihat jumlah baris dan kolom sama dengan data yang ada di BigQuery\n",
        "we.shape"
      ],
      "metadata": {
        "colab": {
          "base_uri": "https://localhost:8080/"
        },
        "id": "9RcCYlOutgo7",
        "outputId": "b2eace4d-2e00-4bfd-8f02-3bce96aaa1c5"
      },
      "execution_count": null,
      "outputs": [
        {
          "output_type": "execute_result",
          "data": {
            "text/plain": [
              "(4264080, 13)"
            ]
          },
          "metadata": {},
          "execution_count": 7
        }
      ]
    },
    {
      "cell_type": "code",
      "source": [
        "#menampilkan data dari kolom report_date dengan menjumlahkan data berdasarkan negara yang sama\n",
        "we[\"country_region\"].value_counts()"
      ],
      "metadata": {
        "colab": {
          "base_uri": "https://localhost:8080/"
        },
        "id": "mhdPxAWiQsH2",
        "outputId": "5e00e73b-5b7d-43b4-a33e-fa217d0178e6"
      },
      "execution_count": null,
      "outputs": [
        {
          "output_type": "execute_result",
          "data": {
            "text/plain": [
              "US                     3513278\n",
              "Russia                   84117\n",
              "Japan                    49860\n",
              "India                    37195\n",
              "China                    36851\n",
              "                        ...   \n",
              "Macao SAR                    1\n",
              "Channel Islands              1\n",
              "Russian Federation           1\n",
              "Taipei and environs          1\n",
              "Ivory Coast                  1\n",
              "Name: country_region, Length: 252, dtype: int64"
            ]
          },
          "metadata": {},
          "execution_count": 8
        }
      ]
    },
    {
      "cell_type": "markdown",
      "source": [
        "This folder contains daily case reports. All timestamps are in UTC (GMT+0).\n",
        "\n",
        "https://github.com/CSSEGISandData/COVID-19/tree/master/csse_covid_19_data\n",
        "\n",
        "Field description\n",
        "\n",
        "`FIPS`: US only. Federal Information Processing Standards code that uniquely identifies counties within the USA.\n",
        "\n",
        "`Admin2`: County name. US only.(county, internal territorial and administrative division in the United Kingdom, United States : google)\n",
        "\n",
        "`Province_State`: Province, state or dependency name.\n",
        "\n",
        "`Country_Region`: Country, region or sovereignty name. The names of locations included on the Website correspond with the official designations used by the U.S. Department of State.\n",
        "\n",
        "`Last Update`: MM/DD/YYYY HH:mm:ss (24 hour format, in UTC).\n",
        "\n",
        "`Lat and Long_`: Dot locations on the dashboard. All points (except for Australia) shown on the map are based on geographic centroids, and are not representative of a specific address, building or any location at a spatial scale finer than a province/state. Australian dots are located at the centroid of the largest city in each state.\n",
        "\n",
        "`Confirmed`: Counts include confirmed and probable (where reported).\n",
        "\n",
        "`Deaths`: Counts include confirmed and probable (where reported).\n",
        "\n",
        "`Recovered`: Recovered cases are estimates based on local media reports, and state and local reporting when available, and therefore may be substantially lower than the true number. US state-level recovered cases are from COVID Tracking Project. We stopped to maintain the recovered cases (see Issue #3464 and Issue #4465).\n",
        "\n",
        "`Active`: Active cases = total cases - total recovered - total deaths. This value is for reference only after we stopped to report the recovered cases (see Issue #4465)"
      ],
      "metadata": {
        "id": "G9sNsrhIKSyo"
      }
    },
    {
      "cell_type": "code",
      "source": [
        "# menampilkan info dari data tabel yang panggil menunjukan nama kolom dan type data\n",
        "we.info()"
      ],
      "metadata": {
        "colab": {
          "base_uri": "https://localhost:8080/"
        },
        "id": "ueOORRTqvu1E",
        "outputId": "4ecc9fe9-1b3b-4353-8f1b-d717b697cd27"
      },
      "execution_count": null,
      "outputs": [
        {
          "output_type": "stream",
          "name": "stdout",
          "text": [
            "<class 'pandas.core.frame.DataFrame'>\n",
            "RangeIndex: 4264080 entries, 0 to 4264079\n",
            "Data columns (total 13 columns):\n",
            " #   Column          Dtype  \n",
            "---  ------          -----  \n",
            " 0   province_state  object \n",
            " 1   country_region  object \n",
            " 2   date            object \n",
            " 3   latitude        float64\n",
            " 4   longitude       float64\n",
            " 5   location_geom   object \n",
            " 6   confirmed       float64\n",
            " 7   deaths          float64\n",
            " 8   recovered       float64\n",
            " 9   active          float64\n",
            " 10  fips            float64\n",
            " 11  admin2          object \n",
            " 12  combined_key    object \n",
            "dtypes: float64(7), object(6)\n",
            "memory usage: 422.9+ MB\n"
          ]
        }
      ]
    },
    {
      "cell_type": "markdown",
      "source": [
        "#iv. Data Cleaning"
      ],
      "metadata": {
        "id": "y6GBgG3_BX7y"
      }
    },
    {
      "cell_type": "code",
      "source": [
        "#menampilkan kolom yang memiliki missing value dengan logika boolean\n",
        "we.isnull()"
      ],
      "metadata": {
        "colab": {
          "base_uri": "https://localhost:8080/",
          "height": 423
        },
        "id": "HC_A255vVlTG",
        "outputId": "b362f4b2-87b1-48d7-d444-b0a1c32e404c"
      },
      "execution_count": null,
      "outputs": [
        {
          "output_type": "execute_result",
          "data": {
            "text/plain": [
              "         province_state  country_region   date  latitude  longitude  \\\n",
              "0                 False           False  False     False      False   \n",
              "1                 False           False  False     False      False   \n",
              "2                 False           False  False     False      False   \n",
              "3                 False           False  False     False      False   \n",
              "4                 False           False  False     False      False   \n",
              "...                 ...             ...    ...       ...        ...   \n",
              "4264075           False           False  False     False      False   \n",
              "4264076           False           False  False     False      False   \n",
              "4264077           False           False  False     False      False   \n",
              "4264078           False           False  False     False      False   \n",
              "4264079           False           False  False     False      False   \n",
              "\n",
              "         location_geom  confirmed  deaths  recovered  active   fips  admin2  \\\n",
              "0                False      False   False      False   False  False   False   \n",
              "1                False      False   False      False   False  False   False   \n",
              "2                False      False   False      False   False  False   False   \n",
              "3                False      False   False      False   False  False   False   \n",
              "4                False      False   False      False   False  False   False   \n",
              "...                ...        ...     ...        ...     ...    ...     ...   \n",
              "4264075          False      False   False       True    True  False   False   \n",
              "4264076          False      False   False       True    True  False   False   \n",
              "4264077          False      False   False       True    True  False   False   \n",
              "4264078          False      False   False       True    True  False   False   \n",
              "4264079          False      False   False       True    True  False   False   \n",
              "\n",
              "         combined_key  \n",
              "0               False  \n",
              "1               False  \n",
              "2               False  \n",
              "3               False  \n",
              "4               False  \n",
              "...               ...  \n",
              "4264075         False  \n",
              "4264076         False  \n",
              "4264077         False  \n",
              "4264078         False  \n",
              "4264079         False  \n",
              "\n",
              "[4264080 rows x 13 columns]"
            ],
            "text/html": [
              "\n",
              "  <div id=\"df-bfc433b5-0fcd-4154-a85a-50be872df2f4\">\n",
              "    <div class=\"colab-df-container\">\n",
              "      <div>\n",
              "<style scoped>\n",
              "    .dataframe tbody tr th:only-of-type {\n",
              "        vertical-align: middle;\n",
              "    }\n",
              "\n",
              "    .dataframe tbody tr th {\n",
              "        vertical-align: top;\n",
              "    }\n",
              "\n",
              "    .dataframe thead th {\n",
              "        text-align: right;\n",
              "    }\n",
              "</style>\n",
              "<table border=\"1\" class=\"dataframe\">\n",
              "  <thead>\n",
              "    <tr style=\"text-align: right;\">\n",
              "      <th></th>\n",
              "      <th>province_state</th>\n",
              "      <th>country_region</th>\n",
              "      <th>date</th>\n",
              "      <th>latitude</th>\n",
              "      <th>longitude</th>\n",
              "      <th>location_geom</th>\n",
              "      <th>confirmed</th>\n",
              "      <th>deaths</th>\n",
              "      <th>recovered</th>\n",
              "      <th>active</th>\n",
              "      <th>fips</th>\n",
              "      <th>admin2</th>\n",
              "      <th>combined_key</th>\n",
              "    </tr>\n",
              "  </thead>\n",
              "  <tbody>\n",
              "    <tr>\n",
              "      <th>0</th>\n",
              "      <td>False</td>\n",
              "      <td>False</td>\n",
              "      <td>False</td>\n",
              "      <td>False</td>\n",
              "      <td>False</td>\n",
              "      <td>False</td>\n",
              "      <td>False</td>\n",
              "      <td>False</td>\n",
              "      <td>False</td>\n",
              "      <td>False</td>\n",
              "      <td>False</td>\n",
              "      <td>False</td>\n",
              "      <td>False</td>\n",
              "    </tr>\n",
              "    <tr>\n",
              "      <th>1</th>\n",
              "      <td>False</td>\n",
              "      <td>False</td>\n",
              "      <td>False</td>\n",
              "      <td>False</td>\n",
              "      <td>False</td>\n",
              "      <td>False</td>\n",
              "      <td>False</td>\n",
              "      <td>False</td>\n",
              "      <td>False</td>\n",
              "      <td>False</td>\n",
              "      <td>False</td>\n",
              "      <td>False</td>\n",
              "      <td>False</td>\n",
              "    </tr>\n",
              "    <tr>\n",
              "      <th>2</th>\n",
              "      <td>False</td>\n",
              "      <td>False</td>\n",
              "      <td>False</td>\n",
              "      <td>False</td>\n",
              "      <td>False</td>\n",
              "      <td>False</td>\n",
              "      <td>False</td>\n",
              "      <td>False</td>\n",
              "      <td>False</td>\n",
              "      <td>False</td>\n",
              "      <td>False</td>\n",
              "      <td>False</td>\n",
              "      <td>False</td>\n",
              "    </tr>\n",
              "    <tr>\n",
              "      <th>3</th>\n",
              "      <td>False</td>\n",
              "      <td>False</td>\n",
              "      <td>False</td>\n",
              "      <td>False</td>\n",
              "      <td>False</td>\n",
              "      <td>False</td>\n",
              "      <td>False</td>\n",
              "      <td>False</td>\n",
              "      <td>False</td>\n",
              "      <td>False</td>\n",
              "      <td>False</td>\n",
              "      <td>False</td>\n",
              "      <td>False</td>\n",
              "    </tr>\n",
              "    <tr>\n",
              "      <th>4</th>\n",
              "      <td>False</td>\n",
              "      <td>False</td>\n",
              "      <td>False</td>\n",
              "      <td>False</td>\n",
              "      <td>False</td>\n",
              "      <td>False</td>\n",
              "      <td>False</td>\n",
              "      <td>False</td>\n",
              "      <td>False</td>\n",
              "      <td>False</td>\n",
              "      <td>False</td>\n",
              "      <td>False</td>\n",
              "      <td>False</td>\n",
              "    </tr>\n",
              "    <tr>\n",
              "      <th>...</th>\n",
              "      <td>...</td>\n",
              "      <td>...</td>\n",
              "      <td>...</td>\n",
              "      <td>...</td>\n",
              "      <td>...</td>\n",
              "      <td>...</td>\n",
              "      <td>...</td>\n",
              "      <td>...</td>\n",
              "      <td>...</td>\n",
              "      <td>...</td>\n",
              "      <td>...</td>\n",
              "      <td>...</td>\n",
              "      <td>...</td>\n",
              "    </tr>\n",
              "    <tr>\n",
              "      <th>4264075</th>\n",
              "      <td>False</td>\n",
              "      <td>False</td>\n",
              "      <td>False</td>\n",
              "      <td>False</td>\n",
              "      <td>False</td>\n",
              "      <td>False</td>\n",
              "      <td>False</td>\n",
              "      <td>False</td>\n",
              "      <td>True</td>\n",
              "      <td>True</td>\n",
              "      <td>False</td>\n",
              "      <td>False</td>\n",
              "      <td>False</td>\n",
              "    </tr>\n",
              "    <tr>\n",
              "      <th>4264076</th>\n",
              "      <td>False</td>\n",
              "      <td>False</td>\n",
              "      <td>False</td>\n",
              "      <td>False</td>\n",
              "      <td>False</td>\n",
              "      <td>False</td>\n",
              "      <td>False</td>\n",
              "      <td>False</td>\n",
              "      <td>True</td>\n",
              "      <td>True</td>\n",
              "      <td>False</td>\n",
              "      <td>False</td>\n",
              "      <td>False</td>\n",
              "    </tr>\n",
              "    <tr>\n",
              "      <th>4264077</th>\n",
              "      <td>False</td>\n",
              "      <td>False</td>\n",
              "      <td>False</td>\n",
              "      <td>False</td>\n",
              "      <td>False</td>\n",
              "      <td>False</td>\n",
              "      <td>False</td>\n",
              "      <td>False</td>\n",
              "      <td>True</td>\n",
              "      <td>True</td>\n",
              "      <td>False</td>\n",
              "      <td>False</td>\n",
              "      <td>False</td>\n",
              "    </tr>\n",
              "    <tr>\n",
              "      <th>4264078</th>\n",
              "      <td>False</td>\n",
              "      <td>False</td>\n",
              "      <td>False</td>\n",
              "      <td>False</td>\n",
              "      <td>False</td>\n",
              "      <td>False</td>\n",
              "      <td>False</td>\n",
              "      <td>False</td>\n",
              "      <td>True</td>\n",
              "      <td>True</td>\n",
              "      <td>False</td>\n",
              "      <td>False</td>\n",
              "      <td>False</td>\n",
              "    </tr>\n",
              "    <tr>\n",
              "      <th>4264079</th>\n",
              "      <td>False</td>\n",
              "      <td>False</td>\n",
              "      <td>False</td>\n",
              "      <td>False</td>\n",
              "      <td>False</td>\n",
              "      <td>False</td>\n",
              "      <td>False</td>\n",
              "      <td>False</td>\n",
              "      <td>True</td>\n",
              "      <td>True</td>\n",
              "      <td>False</td>\n",
              "      <td>False</td>\n",
              "      <td>False</td>\n",
              "    </tr>\n",
              "  </tbody>\n",
              "</table>\n",
              "<p>4264080 rows × 13 columns</p>\n",
              "</div>\n",
              "      <button class=\"colab-df-convert\" onclick=\"convertToInteractive('df-bfc433b5-0fcd-4154-a85a-50be872df2f4')\"\n",
              "              title=\"Convert this dataframe to an interactive table.\"\n",
              "              style=\"display:none;\">\n",
              "        \n",
              "  <svg xmlns=\"http://www.w3.org/2000/svg\" height=\"24px\"viewBox=\"0 0 24 24\"\n",
              "       width=\"24px\">\n",
              "    <path d=\"M0 0h24v24H0V0z\" fill=\"none\"/>\n",
              "    <path d=\"M18.56 5.44l.94 2.06.94-2.06 2.06-.94-2.06-.94-.94-2.06-.94 2.06-2.06.94zm-11 1L8.5 8.5l.94-2.06 2.06-.94-2.06-.94L8.5 2.5l-.94 2.06-2.06.94zm10 10l.94 2.06.94-2.06 2.06-.94-2.06-.94-.94-2.06-.94 2.06-2.06.94z\"/><path d=\"M17.41 7.96l-1.37-1.37c-.4-.4-.92-.59-1.43-.59-.52 0-1.04.2-1.43.59L10.3 9.45l-7.72 7.72c-.78.78-.78 2.05 0 2.83L4 21.41c.39.39.9.59 1.41.59.51 0 1.02-.2 1.41-.59l7.78-7.78 2.81-2.81c.8-.78.8-2.07 0-2.86zM5.41 20L4 18.59l7.72-7.72 1.47 1.35L5.41 20z\"/>\n",
              "  </svg>\n",
              "      </button>\n",
              "      \n",
              "  <style>\n",
              "    .colab-df-container {\n",
              "      display:flex;\n",
              "      flex-wrap:wrap;\n",
              "      gap: 12px;\n",
              "    }\n",
              "\n",
              "    .colab-df-convert {\n",
              "      background-color: #E8F0FE;\n",
              "      border: none;\n",
              "      border-radius: 50%;\n",
              "      cursor: pointer;\n",
              "      display: none;\n",
              "      fill: #1967D2;\n",
              "      height: 32px;\n",
              "      padding: 0 0 0 0;\n",
              "      width: 32px;\n",
              "    }\n",
              "\n",
              "    .colab-df-convert:hover {\n",
              "      background-color: #E2EBFA;\n",
              "      box-shadow: 0px 1px 2px rgba(60, 64, 67, 0.3), 0px 1px 3px 1px rgba(60, 64, 67, 0.15);\n",
              "      fill: #174EA6;\n",
              "    }\n",
              "\n",
              "    [theme=dark] .colab-df-convert {\n",
              "      background-color: #3B4455;\n",
              "      fill: #D2E3FC;\n",
              "    }\n",
              "\n",
              "    [theme=dark] .colab-df-convert:hover {\n",
              "      background-color: #434B5C;\n",
              "      box-shadow: 0px 1px 3px 1px rgba(0, 0, 0, 0.15);\n",
              "      filter: drop-shadow(0px 1px 2px rgba(0, 0, 0, 0.3));\n",
              "      fill: #FFFFFF;\n",
              "    }\n",
              "  </style>\n",
              "\n",
              "      <script>\n",
              "        const buttonEl =\n",
              "          document.querySelector('#df-bfc433b5-0fcd-4154-a85a-50be872df2f4 button.colab-df-convert');\n",
              "        buttonEl.style.display =\n",
              "          google.colab.kernel.accessAllowed ? 'block' : 'none';\n",
              "\n",
              "        async function convertToInteractive(key) {\n",
              "          const element = document.querySelector('#df-bfc433b5-0fcd-4154-a85a-50be872df2f4');\n",
              "          const dataTable =\n",
              "            await google.colab.kernel.invokeFunction('convertToInteractive',\n",
              "                                                     [key], {});\n",
              "          if (!dataTable) return;\n",
              "\n",
              "          const docLinkHtml = 'Like what you see? Visit the ' +\n",
              "            '<a target=\"_blank\" href=https://colab.research.google.com/notebooks/data_table.ipynb>data table notebook</a>'\n",
              "            + ' to learn more about interactive tables.';\n",
              "          element.innerHTML = '';\n",
              "          dataTable['output_type'] = 'display_data';\n",
              "          await google.colab.output.renderOutput(dataTable, element);\n",
              "          const docLink = document.createElement('div');\n",
              "          docLink.innerHTML = docLinkHtml;\n",
              "          element.appendChild(docLink);\n",
              "        }\n",
              "      </script>\n",
              "    </div>\n",
              "  </div>\n",
              "  "
            ]
          },
          "metadata": {},
          "execution_count": 10
        }
      ]
    },
    {
      "cell_type": "code",
      "source": [
        "#menampilkan jumlah dari missing value pada masing masing kolom\n",
        "we.isnull().sum()"
      ],
      "metadata": {
        "colab": {
          "base_uri": "https://localhost:8080/"
        },
        "id": "A7Cuyvf-Y7Wz",
        "outputId": "e95ae0a8-0605-452c-eb5f-78ea6047d602"
      },
      "execution_count": null,
      "outputs": [
        {
          "output_type": "execute_result",
          "data": {
            "text/plain": [
              "province_state     191891\n",
              "country_region          1\n",
              "date                    0\n",
              "latitude            95263\n",
              "longitude           95263\n",
              "location_geom       95263\n",
              "confirmed              19\n",
              "deaths                442\n",
              "recovered         2828489\n",
              "active            2836568\n",
              "fips               764588\n",
              "admin2             759505\n",
              "combined_key         7618\n",
              "dtype: int64"
            ]
          },
          "metadata": {},
          "execution_count": 11
        }
      ]
    },
    {
      "cell_type": "code",
      "source": [
        "#menampilkan setiap baris data pada kolom recovered\n",
        "we['recovered']"
      ],
      "metadata": {
        "colab": {
          "base_uri": "https://localhost:8080/"
        },
        "id": "TsuD1SPbVYUL",
        "outputId": "c178871f-2b15-4158-cf62-50435e7e74d9"
      },
      "execution_count": null,
      "outputs": [
        {
          "output_type": "execute_result",
          "data": {
            "text/plain": [
              "0          0.0\n",
              "1          0.0\n",
              "2          0.0\n",
              "3          0.0\n",
              "4          0.0\n",
              "          ... \n",
              "4264075    NaN\n",
              "4264076    NaN\n",
              "4264077    NaN\n",
              "4264078    NaN\n",
              "4264079    NaN\n",
              "Name: recovered, Length: 4264080, dtype: float64"
            ]
          },
          "metadata": {},
          "execution_count": 12
        }
      ]
    },
    {
      "cell_type": "code",
      "source": [
        "#menampilkan setiap baris data pada kolom active\n",
        "we['active']"
      ],
      "metadata": {
        "colab": {
          "base_uri": "https://localhost:8080/"
        },
        "id": "hM0z03lrVcK0",
        "outputId": "626fbc54-86c5-4602-d8c2-b2081d6af074"
      },
      "execution_count": null,
      "outputs": [
        {
          "output_type": "execute_result",
          "data": {
            "text/plain": [
              "0           11.0\n",
              "1          471.0\n",
              "2           26.0\n",
              "3           30.0\n",
              "4          369.0\n",
              "           ...  \n",
              "4264075      NaN\n",
              "4264076      NaN\n",
              "4264077      NaN\n",
              "4264078      NaN\n",
              "4264079      NaN\n",
              "Name: active, Length: 4264080, dtype: float64"
            ]
          },
          "metadata": {},
          "execution_count": 13
        }
      ]
    },
    {
      "cell_type": "code",
      "source": [
        "#menyalin data frame we kedalam data frame df\n",
        "df = we.copy()"
      ],
      "metadata": {
        "id": "NVldfNI_yXlk"
      },
      "execution_count": null,
      "outputs": []
    },
    {
      "cell_type": "code",
      "source": [
        "df[\"date\"] = pd.to_datetime(df[\"date\"], format=\"%Y/%m/%d\")"
      ],
      "metadata": {
        "id": "YlXB_PHuK3wc"
      },
      "execution_count": null,
      "outputs": []
    },
    {
      "cell_type": "code",
      "source": [
        "#menampilkan informasi dari data frame df \n",
        "df.info()"
      ],
      "metadata": {
        "colab": {
          "base_uri": "https://localhost:8080/"
        },
        "id": "KahJYE03fmoh",
        "outputId": "b4b50f63-023d-4d52-8532-82be5de50228"
      },
      "execution_count": null,
      "outputs": [
        {
          "output_type": "stream",
          "name": "stdout",
          "text": [
            "<class 'pandas.core.frame.DataFrame'>\n",
            "RangeIndex: 4264080 entries, 0 to 4264079\n",
            "Data columns (total 13 columns):\n",
            " #   Column          Dtype         \n",
            "---  ------          -----         \n",
            " 0   province_state  object        \n",
            " 1   country_region  object        \n",
            " 2   date            datetime64[ns]\n",
            " 3   latitude        float64       \n",
            " 4   longitude       float64       \n",
            " 5   location_geom   object        \n",
            " 6   confirmed       float64       \n",
            " 7   deaths          float64       \n",
            " 8   recovered       float64       \n",
            " 9   active          float64       \n",
            " 10  fips            float64       \n",
            " 11  admin2          object        \n",
            " 12  combined_key    object        \n",
            "dtypes: datetime64[ns](1), float64(7), object(5)\n",
            "memory usage: 422.9+ MB\n"
          ]
        }
      ]
    },
    {
      "cell_type": "code",
      "source": [
        "#melihat kolom apa saja yang tidak memiliki nilai\n",
        "df.isnull().sum()"
      ],
      "metadata": {
        "colab": {
          "base_uri": "https://localhost:8080/"
        },
        "id": "z3yTK4kODlfI",
        "outputId": "ff8f3570-b46a-48f4-e49c-f3a72858380f"
      },
      "execution_count": null,
      "outputs": [
        {
          "output_type": "execute_result",
          "data": {
            "text/plain": [
              "province_state     191891\n",
              "country_region          1\n",
              "date                    0\n",
              "latitude            95263\n",
              "longitude           95263\n",
              "location_geom       95263\n",
              "confirmed              19\n",
              "deaths                442\n",
              "recovered         2828489\n",
              "active            2836568\n",
              "fips               764588\n",
              "admin2             759505\n",
              "combined_key         7618\n",
              "dtype: int64"
            ]
          },
          "metadata": {},
          "execution_count": 17
        }
      ]
    },
    {
      "cell_type": "code",
      "source": [
        "#menghilangkan kolom 'recovered' karena tidak ada data yang ditampilkan dari sumbernya\n",
        "#menghilangkan kolom \"latitude\", \"longitude\", \"location_geom\" karena tidak dibutuhkan\n",
        "location = [\"recovered\"]"
      ],
      "metadata": {
        "id": "4yh5aV3fzCre"
      },
      "execution_count": null,
      "outputs": []
    },
    {
      "cell_type": "code",
      "source": [
        "#menghilangkan kolom yang terlalu banyak menimbulkan missing value dan tidak digunkan\n",
        "df.drop(location, inplace=True, axis=1)"
      ],
      "metadata": {
        "id": "PzteHr1NIXTs"
      },
      "execution_count": null,
      "outputs": []
    },
    {
      "cell_type": "code",
      "source": [
        "#sesuai deskripsi kolom active merupakan nilai selisih 'confirmed' - 'deaths' dan terdapat nilai NaN\n",
        "#sehingga kita operasikan ulang untuk mendapatkan nilai selisih dan tidak menimbulkan missiing value\n",
        "df[\"active\"] = df.confirmed - df.deaths "
      ],
      "metadata": {
        "id": "D7nWj9kbC4_c"
      },
      "execution_count": null,
      "outputs": []
    },
    {
      "cell_type": "code",
      "source": [
        "#menghilangkan missing value dari setiap baris data frame\n",
        "df_cleaned = df.dropna()"
      ],
      "metadata": {
        "id": "bhEgBeXQ_NWN"
      },
      "execution_count": null,
      "outputs": []
    },
    {
      "cell_type": "code",
      "source": [
        "##melihat kolom apa saja yang tersisa dan sudah tidak mengandung missing value\n",
        "df_cleaned.isnull().sum()"
      ],
      "metadata": {
        "colab": {
          "base_uri": "https://localhost:8080/"
        },
        "id": "Usa5BBzU_SUD",
        "outputId": "aa348f71-42c5-412f-8f53-58febfac4d76"
      },
      "execution_count": null,
      "outputs": [
        {
          "output_type": "execute_result",
          "data": {
            "text/plain": [
              "province_state    0\n",
              "country_region    0\n",
              "date              0\n",
              "latitude          0\n",
              "longitude         0\n",
              "location_geom     0\n",
              "confirmed         0\n",
              "deaths            0\n",
              "active            0\n",
              "fips              0\n",
              "admin2            0\n",
              "combined_key      0\n",
              "dtype: int64"
            ]
          },
          "metadata": {},
          "execution_count": 22
        }
      ]
    },
    {
      "cell_type": "code",
      "source": [
        "#mengganti nama kolom agar lebih singkat\n",
        "df_renamed = df_cleaned.rename(\n",
        "    columns={\"country_region\t\": \"Country\"}\n",
        ")\n",
        "df_renamed.head()"
      ],
      "metadata": {
        "colab": {
          "base_uri": "https://localhost:8080/",
          "height": 206
        },
        "id": "x-ZSXpOR7KR6",
        "outputId": "9a6c2fc9-fe9f-4cdc-c474-713794d447ce"
      },
      "execution_count": null,
      "outputs": [
        {
          "output_type": "execute_result",
          "data": {
            "text/plain": [
              "   province_state country_region       date   latitude  longitude  \\\n",
              "0        Virginia             US 2020-05-15  37.019097 -78.663141   \n",
              "1  North Carolina             US 2020-05-15  35.703944 -79.255415   \n",
              "2         Alabama             US 2020-05-15  34.178060 -85.606390   \n",
              "3           Texas             US 2020-05-15  31.837258 -95.165599   \n",
              "4        Virginia             US 2020-05-15  36.676700 -76.305457   \n",
              "\n",
              "                     location_geom  confirmed  deaths  active     fips  \\\n",
              "0  POINT(-78.66314092 37.01909701)       11.0     0.0    11.0  51037.0   \n",
              "1  POINT(-79.25541492 35.70394416)      495.0    24.0   471.0  37037.0   \n",
              "2  POINT(-85.60638968 34.17805983)       26.0     0.0    26.0   1019.0   \n",
              "3    POINT(-95.16559897 31.837258)       31.0     1.0    30.0  48073.0   \n",
              "4  POINT(-76.30545744 36.67670048)      379.0    10.0   369.0  51550.0   \n",
              "\n",
              "       admin2                 combined_key  \n",
              "0   Charlotte      Charlotte, Virginia, US  \n",
              "1     Chatham  Chatham, North Carolina, US  \n",
              "2    Cherokee        Cherokee, Alabama, US  \n",
              "3    Cherokee          Cherokee, Texas, US  \n",
              "4  Chesapeake     Chesapeake, Virginia, US  "
            ],
            "text/html": [
              "\n",
              "  <div id=\"df-aedb0c40-e57b-46a8-9e53-1933ff86d94a\">\n",
              "    <div class=\"colab-df-container\">\n",
              "      <div>\n",
              "<style scoped>\n",
              "    .dataframe tbody tr th:only-of-type {\n",
              "        vertical-align: middle;\n",
              "    }\n",
              "\n",
              "    .dataframe tbody tr th {\n",
              "        vertical-align: top;\n",
              "    }\n",
              "\n",
              "    .dataframe thead th {\n",
              "        text-align: right;\n",
              "    }\n",
              "</style>\n",
              "<table border=\"1\" class=\"dataframe\">\n",
              "  <thead>\n",
              "    <tr style=\"text-align: right;\">\n",
              "      <th></th>\n",
              "      <th>province_state</th>\n",
              "      <th>country_region</th>\n",
              "      <th>date</th>\n",
              "      <th>latitude</th>\n",
              "      <th>longitude</th>\n",
              "      <th>location_geom</th>\n",
              "      <th>confirmed</th>\n",
              "      <th>deaths</th>\n",
              "      <th>active</th>\n",
              "      <th>fips</th>\n",
              "      <th>admin2</th>\n",
              "      <th>combined_key</th>\n",
              "    </tr>\n",
              "  </thead>\n",
              "  <tbody>\n",
              "    <tr>\n",
              "      <th>0</th>\n",
              "      <td>Virginia</td>\n",
              "      <td>US</td>\n",
              "      <td>2020-05-15</td>\n",
              "      <td>37.019097</td>\n",
              "      <td>-78.663141</td>\n",
              "      <td>POINT(-78.66314092 37.01909701)</td>\n",
              "      <td>11.0</td>\n",
              "      <td>0.0</td>\n",
              "      <td>11.0</td>\n",
              "      <td>51037.0</td>\n",
              "      <td>Charlotte</td>\n",
              "      <td>Charlotte, Virginia, US</td>\n",
              "    </tr>\n",
              "    <tr>\n",
              "      <th>1</th>\n",
              "      <td>North Carolina</td>\n",
              "      <td>US</td>\n",
              "      <td>2020-05-15</td>\n",
              "      <td>35.703944</td>\n",
              "      <td>-79.255415</td>\n",
              "      <td>POINT(-79.25541492 35.70394416)</td>\n",
              "      <td>495.0</td>\n",
              "      <td>24.0</td>\n",
              "      <td>471.0</td>\n",
              "      <td>37037.0</td>\n",
              "      <td>Chatham</td>\n",
              "      <td>Chatham, North Carolina, US</td>\n",
              "    </tr>\n",
              "    <tr>\n",
              "      <th>2</th>\n",
              "      <td>Alabama</td>\n",
              "      <td>US</td>\n",
              "      <td>2020-05-15</td>\n",
              "      <td>34.178060</td>\n",
              "      <td>-85.606390</td>\n",
              "      <td>POINT(-85.60638968 34.17805983)</td>\n",
              "      <td>26.0</td>\n",
              "      <td>0.0</td>\n",
              "      <td>26.0</td>\n",
              "      <td>1019.0</td>\n",
              "      <td>Cherokee</td>\n",
              "      <td>Cherokee, Alabama, US</td>\n",
              "    </tr>\n",
              "    <tr>\n",
              "      <th>3</th>\n",
              "      <td>Texas</td>\n",
              "      <td>US</td>\n",
              "      <td>2020-05-15</td>\n",
              "      <td>31.837258</td>\n",
              "      <td>-95.165599</td>\n",
              "      <td>POINT(-95.16559897 31.837258)</td>\n",
              "      <td>31.0</td>\n",
              "      <td>1.0</td>\n",
              "      <td>30.0</td>\n",
              "      <td>48073.0</td>\n",
              "      <td>Cherokee</td>\n",
              "      <td>Cherokee, Texas, US</td>\n",
              "    </tr>\n",
              "    <tr>\n",
              "      <th>4</th>\n",
              "      <td>Virginia</td>\n",
              "      <td>US</td>\n",
              "      <td>2020-05-15</td>\n",
              "      <td>36.676700</td>\n",
              "      <td>-76.305457</td>\n",
              "      <td>POINT(-76.30545744 36.67670048)</td>\n",
              "      <td>379.0</td>\n",
              "      <td>10.0</td>\n",
              "      <td>369.0</td>\n",
              "      <td>51550.0</td>\n",
              "      <td>Chesapeake</td>\n",
              "      <td>Chesapeake, Virginia, US</td>\n",
              "    </tr>\n",
              "  </tbody>\n",
              "</table>\n",
              "</div>\n",
              "      <button class=\"colab-df-convert\" onclick=\"convertToInteractive('df-aedb0c40-e57b-46a8-9e53-1933ff86d94a')\"\n",
              "              title=\"Convert this dataframe to an interactive table.\"\n",
              "              style=\"display:none;\">\n",
              "        \n",
              "  <svg xmlns=\"http://www.w3.org/2000/svg\" height=\"24px\"viewBox=\"0 0 24 24\"\n",
              "       width=\"24px\">\n",
              "    <path d=\"M0 0h24v24H0V0z\" fill=\"none\"/>\n",
              "    <path d=\"M18.56 5.44l.94 2.06.94-2.06 2.06-.94-2.06-.94-.94-2.06-.94 2.06-2.06.94zm-11 1L8.5 8.5l.94-2.06 2.06-.94-2.06-.94L8.5 2.5l-.94 2.06-2.06.94zm10 10l.94 2.06.94-2.06 2.06-.94-2.06-.94-.94-2.06-.94 2.06-2.06.94z\"/><path d=\"M17.41 7.96l-1.37-1.37c-.4-.4-.92-.59-1.43-.59-.52 0-1.04.2-1.43.59L10.3 9.45l-7.72 7.72c-.78.78-.78 2.05 0 2.83L4 21.41c.39.39.9.59 1.41.59.51 0 1.02-.2 1.41-.59l7.78-7.78 2.81-2.81c.8-.78.8-2.07 0-2.86zM5.41 20L4 18.59l7.72-7.72 1.47 1.35L5.41 20z\"/>\n",
              "  </svg>\n",
              "      </button>\n",
              "      \n",
              "  <style>\n",
              "    .colab-df-container {\n",
              "      display:flex;\n",
              "      flex-wrap:wrap;\n",
              "      gap: 12px;\n",
              "    }\n",
              "\n",
              "    .colab-df-convert {\n",
              "      background-color: #E8F0FE;\n",
              "      border: none;\n",
              "      border-radius: 50%;\n",
              "      cursor: pointer;\n",
              "      display: none;\n",
              "      fill: #1967D2;\n",
              "      height: 32px;\n",
              "      padding: 0 0 0 0;\n",
              "      width: 32px;\n",
              "    }\n",
              "\n",
              "    .colab-df-convert:hover {\n",
              "      background-color: #E2EBFA;\n",
              "      box-shadow: 0px 1px 2px rgba(60, 64, 67, 0.3), 0px 1px 3px 1px rgba(60, 64, 67, 0.15);\n",
              "      fill: #174EA6;\n",
              "    }\n",
              "\n",
              "    [theme=dark] .colab-df-convert {\n",
              "      background-color: #3B4455;\n",
              "      fill: #D2E3FC;\n",
              "    }\n",
              "\n",
              "    [theme=dark] .colab-df-convert:hover {\n",
              "      background-color: #434B5C;\n",
              "      box-shadow: 0px 1px 3px 1px rgba(0, 0, 0, 0.15);\n",
              "      filter: drop-shadow(0px 1px 2px rgba(0, 0, 0, 0.3));\n",
              "      fill: #FFFFFF;\n",
              "    }\n",
              "  </style>\n",
              "\n",
              "      <script>\n",
              "        const buttonEl =\n",
              "          document.querySelector('#df-aedb0c40-e57b-46a8-9e53-1933ff86d94a button.colab-df-convert');\n",
              "        buttonEl.style.display =\n",
              "          google.colab.kernel.accessAllowed ? 'block' : 'none';\n",
              "\n",
              "        async function convertToInteractive(key) {\n",
              "          const element = document.querySelector('#df-aedb0c40-e57b-46a8-9e53-1933ff86d94a');\n",
              "          const dataTable =\n",
              "            await google.colab.kernel.invokeFunction('convertToInteractive',\n",
              "                                                     [key], {});\n",
              "          if (!dataTable) return;\n",
              "\n",
              "          const docLinkHtml = 'Like what you see? Visit the ' +\n",
              "            '<a target=\"_blank\" href=https://colab.research.google.com/notebooks/data_table.ipynb>data table notebook</a>'\n",
              "            + ' to learn more about interactive tables.';\n",
              "          element.innerHTML = '';\n",
              "          dataTable['output_type'] = 'display_data';\n",
              "          await google.colab.output.renderOutput(dataTable, element);\n",
              "          const docLink = document.createElement('div');\n",
              "          docLink.innerHTML = docLinkHtml;\n",
              "          element.appendChild(docLink);\n",
              "        }\n",
              "      </script>\n",
              "    </div>\n",
              "  </div>\n",
              "  "
            ]
          },
          "metadata": {},
          "execution_count": 23
        }
      ]
    },
    {
      "cell_type": "code",
      "source": [
        "#menghilangkan nilai data negatif pada kolom active\n",
        "df_renamed.drop(df_renamed[df_renamed [\"active\"] < 0].index, inplace = True)"
      ],
      "metadata": {
        "id": "hdwA58__Pvbk"
      },
      "execution_count": null,
      "outputs": []
    },
    {
      "cell_type": "markdown",
      "source": [
        "# v. Explorasi Data\n"
      ],
      "metadata": {
        "id": "2cYSDg8BTaYm"
      }
    },
    {
      "cell_type": "code",
      "source": [
        "#menyalin data berdasarkan negara US pada data frame df renamed kedalam data frame covid_us \n",
        "covid_us = df_renamed[df_renamed['country_region'] == 'US']"
      ],
      "metadata": {
        "id": "EHUXZo9ECypW"
      },
      "execution_count": null,
      "outputs": []
    },
    {
      "cell_type": "code",
      "source": [
        "#menampilkan baris dan kolom pada data frmae covid us\n",
        "covid_us.shape"
      ],
      "metadata": {
        "colab": {
          "base_uri": "https://localhost:8080/"
        },
        "id": "XRFcfSj8N6KX",
        "outputId": "055de356-a9c7-43db-9b71-f61db6eaa834"
      },
      "execution_count": null,
      "outputs": [
        {
          "output_type": "execute_result",
          "data": {
            "text/plain": [
              "(3424891, 12)"
            ]
          },
          "metadata": {},
          "execution_count": 26
        }
      ]
    },
    {
      "cell_type": "code",
      "source": [
        "#menampilkan informasi dari data frmae covid us\n",
        "covid_us.info()"
      ],
      "metadata": {
        "colab": {
          "base_uri": "https://localhost:8080/"
        },
        "id": "dEgMPvf0bZ1N",
        "outputId": "7f23ea23-3715-47c6-8b74-071a04e7b886"
      },
      "execution_count": null,
      "outputs": [
        {
          "output_type": "stream",
          "name": "stdout",
          "text": [
            "<class 'pandas.core.frame.DataFrame'>\n",
            "Int64Index: 3424891 entries, 0 to 4264079\n",
            "Data columns (total 12 columns):\n",
            " #   Column          Dtype         \n",
            "---  ------          -----         \n",
            " 0   province_state  object        \n",
            " 1   country_region  object        \n",
            " 2   date            datetime64[ns]\n",
            " 3   latitude        float64       \n",
            " 4   longitude       float64       \n",
            " 5   location_geom   object        \n",
            " 6   confirmed       float64       \n",
            " 7   deaths          float64       \n",
            " 8   active          float64       \n",
            " 9   fips            float64       \n",
            " 10  admin2          object        \n",
            " 11  combined_key    object        \n",
            "dtypes: datetime64[ns](1), float64(6), object(5)\n",
            "memory usage: 339.7+ MB\n"
          ]
        }
      ]
    },
    {
      "cell_type": "code",
      "source": [
        "#menampilkan jumlah data unik pada kolom fips dari data frame covid us \n",
        "covid_us['fips'].nunique()"
      ],
      "metadata": {
        "colab": {
          "base_uri": "https://localhost:8080/"
        },
        "id": "yjjr20LwY2Ft",
        "outputId": "fe50525d-3402-463a-cb81-3bcaddce52b4"
      },
      "execution_count": null,
      "outputs": [
        {
          "output_type": "execute_result",
          "data": {
            "text/plain": [
              "3223"
            ]
          },
          "metadata": {},
          "execution_count": 28
        }
      ]
    },
    {
      "cell_type": "code",
      "source": [
        "#menampilkan jumlah data unik pada kolom province state dari data frame covid us \n",
        "covid_us['province_state'].nunique()"
      ],
      "metadata": {
        "colab": {
          "base_uri": "https://localhost:8080/"
        },
        "id": "Al_ePkbAZLvl",
        "outputId": "59f6c6a2-34d1-40b2-af5b-715e9220ad5b"
      },
      "execution_count": null,
      "outputs": [
        {
          "output_type": "execute_result",
          "data": {
            "text/plain": [
              "52"
            ]
          },
          "metadata": {},
          "execution_count": 29
        }
      ]
    },
    {
      "cell_type": "code",
      "source": [
        "#menghitung jumlah data unik dalam kolom province state dari data frame covid us\n",
        "covid_us['province_state'].value_counts()"
      ],
      "metadata": {
        "colab": {
          "base_uri": "https://localhost:8080/"
        },
        "id": "pfxyNtR9k08t",
        "outputId": "827fb27f-a786-4e28-e7d9-c14651d291b1"
      },
      "execution_count": null,
      "outputs": [
        {
          "output_type": "execute_result",
          "data": {
            "text/plain": [
              "Texas                   271276\n",
              "Georgia                 172003\n",
              "Virginia                143866\n",
              "Kentucky                129048\n",
              "Missouri                123121\n",
              "Kansas                  111381\n",
              "Illinois                109812\n",
              "North Carolina          108044\n",
              "Iowa                    106515\n",
              "Tennessee               102779\n",
              "Indiana                  99580\n",
              "Nebraska                 98354\n",
              "Ohio                     95176\n",
              "Minnesota                93506\n",
              "Michigan                 89555\n",
              "Mississippi              88699\n",
              "Oklahoma                 82747\n",
              "Arkansas                 80934\n",
              "Wisconsin                77631\n",
              "Puerto Rico              75270\n",
              "Alabama                  72532\n",
              "Pennsylvania             72523\n",
              "Florida                  72496\n",
              "South Dakota             69968\n",
              "Louisiana                69269\n",
              "Colorado                 68691\n",
              "New York                 66531\n",
              "California               62507\n",
              "West Virginia            59034\n",
              "Montana                  57884\n",
              "North Dakota             56070\n",
              "South Carolina           49811\n",
              "Idaho                    46778\n",
              "Washington               42193\n",
              "Oregon                   38669\n",
              "New Mexico               35451\n",
              "Alaska                   30186\n",
              "Maryland                 25989\n",
              "Wyoming                  24801\n",
              "New Jersey               22743\n",
              "Nevada                   18191\n",
              "Maine                    17301\n",
              "Arizona                  16245\n",
              "Vermont                  15146\n",
              "Massachusetts            13016\n",
              "New Hampshire            10825\n",
              "Connecticut               8664\n",
              "Utah                      7991\n",
              "Rhode Island              5415\n",
              "Hawaii                    4341\n",
              "Delaware                  3249\n",
              "District of Columbia      1084\n",
              "Name: province_state, dtype: int64"
            ]
          },
          "metadata": {},
          "execution_count": 30
        }
      ]
    },
    {
      "cell_type": "code",
      "source": [
        "#menghitung jumlah data unik dalam kolom admin 2 dari data frame covid us\n",
        "covid_us['admin2'].value_counts()"
      ],
      "metadata": {
        "colab": {
          "base_uri": "https://localhost:8080/"
        },
        "id": "nWewzyWlsZZ1",
        "outputId": "86f20d61-8c99-4d74-a253-03cc4bd20389"
      },
      "execution_count": null,
      "outputs": [
        {
          "output_type": "execute_result",
          "data": {
            "text/plain": [
              "Washington            32474\n",
              "Jefferson             28094\n",
              "Franklin              26988\n",
              "Lincoln               25827\n",
              "Jackson               25818\n",
              "                      ...  \n",
              "Doña Ana                  9\n",
              "Lake and Peninsula        9\n",
              "Elko County               4\n",
              "Washington County         4\n",
              "Walla Walla County        1\n",
              "Name: admin2, Length: 1924, dtype: int64"
            ]
          },
          "metadata": {},
          "execution_count": 31
        }
      ]
    },
    {
      "cell_type": "code",
      "source": [
        "#menghitung jumlah data unik dalam kolom fips dari data frame covid us\n",
        "covid_us['fips'].value_counts()"
      ],
      "metadata": {
        "colab": {
          "base_uri": "https://localhost:8080/"
        },
        "id": "rzTERBvqYAZ5",
        "outputId": "2a1937d7-94fd-4fc9-b149-5b7900a355d3"
      },
      "execution_count": null,
      "outputs": [
        {
          "output_type": "execute_result",
          "data": {
            "text/plain": [
              "32007.0    1087\n",
              "35013.0    1086\n",
              "11001.0    1084\n",
              "53071.0    1084\n",
              "47091.0    1083\n",
              "           ... \n",
              "2105.0        9\n",
              "49001.0       9\n",
              "49039.0       9\n",
              "15005.0       9\n",
              "49023.0       9\n",
              "Name: fips, Length: 3223, dtype: int64"
            ]
          },
          "metadata": {},
          "execution_count": 32
        }
      ]
    },
    {
      "cell_type": "markdown",
      "source": [
        "## query groupby agregat data"
      ],
      "metadata": {
        "id": "WfZuG19gS72X"
      }
    },
    {
      "cell_type": "code",
      "source": [
        "#melihat kasus covid di Texas pada tahun 2020 \n",
        "Texas_Covid_2020 = covid_us[\n",
        "          (covid_us[\"province_state\"] == 'Texas') & \n",
        "#mengambil data tabel pada kolom province state hanya province Texas\n",
        "          (covid_us[\"date\"].dt.year == 2020) \n",
        "#mengambil data tabel pada kolom date hanya pada tahun 2020\n",
        "].groupby(\"date\", as_index=False)['confirmed', 'deaths', 'active'].sum()\n",
        "Texas_Covid_2020\n",
        "#menampilkan tabel dengan date sebagai acuan. confirmed, deaths, dan\tactive diatur data dijumlahkan pada tiap hari \n",
        "#diurutkan berdasarkan deaths kasus paling tinggi kerendah "
      ],
      "metadata": {
        "colab": {
          "base_uri": "https://localhost:8080/",
          "height": 458
        },
        "id": "R7KuCmChpA0V",
        "outputId": "ec3349b3-15f0-4b2c-bec8-90f285faf1d4"
      },
      "execution_count": null,
      "outputs": [
        {
          "output_type": "stream",
          "name": "stderr",
          "text": [
            "<ipython-input-33-1b48ec89ad6a>:2: FutureWarning: Indexing with multiple keys (implicitly converted to a tuple of keys) will be deprecated, use a list instead.\n",
            "  Texas_Covid_2020 = covid_us[\n"
          ]
        },
        {
          "output_type": "execute_result",
          "data": {
            "text/plain": [
              "          date  confirmed   deaths     active\n",
              "0   2020-03-22      643.0      7.0      636.0\n",
              "1   2020-03-23      758.0      9.0      749.0\n",
              "2   2020-03-24      955.0     12.0      943.0\n",
              "3   2020-03-25     1229.0     15.0     1214.0\n",
              "4   2020-03-26     1563.0     21.0     1542.0\n",
              "..         ...        ...      ...        ...\n",
              "280 2020-12-27  1690986.0  26966.0  1664020.0\n",
              "281 2020-12-28  1700549.0  27038.0  1673511.0\n",
              "282 2020-12-29  1730084.0  27282.0  1702802.0\n",
              "283 2020-12-30  1750250.0  27600.0  1722650.0\n",
              "284 2020-12-31  1766307.0  27944.0  1738363.0\n",
              "\n",
              "[285 rows x 4 columns]"
            ],
            "text/html": [
              "\n",
              "  <div id=\"df-f2d0e0ff-ff77-4914-922a-a8f59eadcf4e\">\n",
              "    <div class=\"colab-df-container\">\n",
              "      <div>\n",
              "<style scoped>\n",
              "    .dataframe tbody tr th:only-of-type {\n",
              "        vertical-align: middle;\n",
              "    }\n",
              "\n",
              "    .dataframe tbody tr th {\n",
              "        vertical-align: top;\n",
              "    }\n",
              "\n",
              "    .dataframe thead th {\n",
              "        text-align: right;\n",
              "    }\n",
              "</style>\n",
              "<table border=\"1\" class=\"dataframe\">\n",
              "  <thead>\n",
              "    <tr style=\"text-align: right;\">\n",
              "      <th></th>\n",
              "      <th>date</th>\n",
              "      <th>confirmed</th>\n",
              "      <th>deaths</th>\n",
              "      <th>active</th>\n",
              "    </tr>\n",
              "  </thead>\n",
              "  <tbody>\n",
              "    <tr>\n",
              "      <th>0</th>\n",
              "      <td>2020-03-22</td>\n",
              "      <td>643.0</td>\n",
              "      <td>7.0</td>\n",
              "      <td>636.0</td>\n",
              "    </tr>\n",
              "    <tr>\n",
              "      <th>1</th>\n",
              "      <td>2020-03-23</td>\n",
              "      <td>758.0</td>\n",
              "      <td>9.0</td>\n",
              "      <td>749.0</td>\n",
              "    </tr>\n",
              "    <tr>\n",
              "      <th>2</th>\n",
              "      <td>2020-03-24</td>\n",
              "      <td>955.0</td>\n",
              "      <td>12.0</td>\n",
              "      <td>943.0</td>\n",
              "    </tr>\n",
              "    <tr>\n",
              "      <th>3</th>\n",
              "      <td>2020-03-25</td>\n",
              "      <td>1229.0</td>\n",
              "      <td>15.0</td>\n",
              "      <td>1214.0</td>\n",
              "    </tr>\n",
              "    <tr>\n",
              "      <th>4</th>\n",
              "      <td>2020-03-26</td>\n",
              "      <td>1563.0</td>\n",
              "      <td>21.0</td>\n",
              "      <td>1542.0</td>\n",
              "    </tr>\n",
              "    <tr>\n",
              "      <th>...</th>\n",
              "      <td>...</td>\n",
              "      <td>...</td>\n",
              "      <td>...</td>\n",
              "      <td>...</td>\n",
              "    </tr>\n",
              "    <tr>\n",
              "      <th>280</th>\n",
              "      <td>2020-12-27</td>\n",
              "      <td>1690986.0</td>\n",
              "      <td>26966.0</td>\n",
              "      <td>1664020.0</td>\n",
              "    </tr>\n",
              "    <tr>\n",
              "      <th>281</th>\n",
              "      <td>2020-12-28</td>\n",
              "      <td>1700549.0</td>\n",
              "      <td>27038.0</td>\n",
              "      <td>1673511.0</td>\n",
              "    </tr>\n",
              "    <tr>\n",
              "      <th>282</th>\n",
              "      <td>2020-12-29</td>\n",
              "      <td>1730084.0</td>\n",
              "      <td>27282.0</td>\n",
              "      <td>1702802.0</td>\n",
              "    </tr>\n",
              "    <tr>\n",
              "      <th>283</th>\n",
              "      <td>2020-12-30</td>\n",
              "      <td>1750250.0</td>\n",
              "      <td>27600.0</td>\n",
              "      <td>1722650.0</td>\n",
              "    </tr>\n",
              "    <tr>\n",
              "      <th>284</th>\n",
              "      <td>2020-12-31</td>\n",
              "      <td>1766307.0</td>\n",
              "      <td>27944.0</td>\n",
              "      <td>1738363.0</td>\n",
              "    </tr>\n",
              "  </tbody>\n",
              "</table>\n",
              "<p>285 rows × 4 columns</p>\n",
              "</div>\n",
              "      <button class=\"colab-df-convert\" onclick=\"convertToInteractive('df-f2d0e0ff-ff77-4914-922a-a8f59eadcf4e')\"\n",
              "              title=\"Convert this dataframe to an interactive table.\"\n",
              "              style=\"display:none;\">\n",
              "        \n",
              "  <svg xmlns=\"http://www.w3.org/2000/svg\" height=\"24px\"viewBox=\"0 0 24 24\"\n",
              "       width=\"24px\">\n",
              "    <path d=\"M0 0h24v24H0V0z\" fill=\"none\"/>\n",
              "    <path d=\"M18.56 5.44l.94 2.06.94-2.06 2.06-.94-2.06-.94-.94-2.06-.94 2.06-2.06.94zm-11 1L8.5 8.5l.94-2.06 2.06-.94-2.06-.94L8.5 2.5l-.94 2.06-2.06.94zm10 10l.94 2.06.94-2.06 2.06-.94-2.06-.94-.94-2.06-.94 2.06-2.06.94z\"/><path d=\"M17.41 7.96l-1.37-1.37c-.4-.4-.92-.59-1.43-.59-.52 0-1.04.2-1.43.59L10.3 9.45l-7.72 7.72c-.78.78-.78 2.05 0 2.83L4 21.41c.39.39.9.59 1.41.59.51 0 1.02-.2 1.41-.59l7.78-7.78 2.81-2.81c.8-.78.8-2.07 0-2.86zM5.41 20L4 18.59l7.72-7.72 1.47 1.35L5.41 20z\"/>\n",
              "  </svg>\n",
              "      </button>\n",
              "      \n",
              "  <style>\n",
              "    .colab-df-container {\n",
              "      display:flex;\n",
              "      flex-wrap:wrap;\n",
              "      gap: 12px;\n",
              "    }\n",
              "\n",
              "    .colab-df-convert {\n",
              "      background-color: #E8F0FE;\n",
              "      border: none;\n",
              "      border-radius: 50%;\n",
              "      cursor: pointer;\n",
              "      display: none;\n",
              "      fill: #1967D2;\n",
              "      height: 32px;\n",
              "      padding: 0 0 0 0;\n",
              "      width: 32px;\n",
              "    }\n",
              "\n",
              "    .colab-df-convert:hover {\n",
              "      background-color: #E2EBFA;\n",
              "      box-shadow: 0px 1px 2px rgba(60, 64, 67, 0.3), 0px 1px 3px 1px rgba(60, 64, 67, 0.15);\n",
              "      fill: #174EA6;\n",
              "    }\n",
              "\n",
              "    [theme=dark] .colab-df-convert {\n",
              "      background-color: #3B4455;\n",
              "      fill: #D2E3FC;\n",
              "    }\n",
              "\n",
              "    [theme=dark] .colab-df-convert:hover {\n",
              "      background-color: #434B5C;\n",
              "      box-shadow: 0px 1px 3px 1px rgba(0, 0, 0, 0.15);\n",
              "      filter: drop-shadow(0px 1px 2px rgba(0, 0, 0, 0.3));\n",
              "      fill: #FFFFFF;\n",
              "    }\n",
              "  </style>\n",
              "\n",
              "      <script>\n",
              "        const buttonEl =\n",
              "          document.querySelector('#df-f2d0e0ff-ff77-4914-922a-a8f59eadcf4e button.colab-df-convert');\n",
              "        buttonEl.style.display =\n",
              "          google.colab.kernel.accessAllowed ? 'block' : 'none';\n",
              "\n",
              "        async function convertToInteractive(key) {\n",
              "          const element = document.querySelector('#df-f2d0e0ff-ff77-4914-922a-a8f59eadcf4e');\n",
              "          const dataTable =\n",
              "            await google.colab.kernel.invokeFunction('convertToInteractive',\n",
              "                                                     [key], {});\n",
              "          if (!dataTable) return;\n",
              "\n",
              "          const docLinkHtml = 'Like what you see? Visit the ' +\n",
              "            '<a target=\"_blank\" href=https://colab.research.google.com/notebooks/data_table.ipynb>data table notebook</a>'\n",
              "            + ' to learn more about interactive tables.';\n",
              "          element.innerHTML = '';\n",
              "          dataTable['output_type'] = 'display_data';\n",
              "          await google.colab.output.renderOutput(dataTable, element);\n",
              "          const docLink = document.createElement('div');\n",
              "          docLink.innerHTML = docLinkHtml;\n",
              "          element.appendChild(docLink);\n",
              "        }\n",
              "      </script>\n",
              "    </div>\n",
              "  </div>\n",
              "  "
            ]
          },
          "metadata": {},
          "execution_count": 33
        }
      ]
    },
    {
      "cell_type": "markdown",
      "source": [
        "Tabel diatas memperlihatkan trend covid yang terjadi pada texas selama tahun 2020, dengan total 284 hari data update data yang ditampilkan adalah data akumulasi dari data kasus hari sebelumnya.\n",
        "\n",
        "\n"
      ],
      "metadata": {
        "id": "NibXNU38px_a"
      }
    },
    {
      "cell_type": "code",
      "source": [
        "#from pandas.core.base import value_counts\n",
        "#menampilkan kasus Covid US di provinsi mana saja dengan admin2 adalah 'Washington' pada tahun 2020 \n",
        "covid2020_by_washington = covid_us[\n",
        "          (covid_us[\"date\"].dt.year == 2020) &\n",
        "#mengambil data tabel pada kolom date hanya pada tahun 2020\n",
        "          (covid_us[\"admin2\"] == 'Washington')\n",
        "##mengambil data tabel pada kolom admin2 hanya pada Washington\n",
        "].groupby('province_state', as_index=False).agg({'confirmed':'max', 'deaths':'max', 'active':'max', 'fips':'unique'}).sort_values('deaths', ascending=False)\n",
        "covid2020_by_washington\n",
        "#menampilkan tabel dengan province state sebagai acuan, confirmed, deaths,\tactive, diatur data tertinggi yang terjadi pada tiap kota dan fips menunjukan kode kabupaten yang didata\n",
        "#diurutkan berdasarkan deaths kasus paling tinggi kerendah "
      ],
      "metadata": {
        "colab": {
          "base_uri": "https://localhost:8080/",
          "height": 1000
        },
        "id": "pHRq6YgpejW5",
        "outputId": "28ed799b-13bb-4da1-d7b0-8e699dc78a26"
      },
      "execution_count": null,
      "outputs": [
        {
          "output_type": "execute_result",
          "data": {
            "text/plain": [
              "    province_state  confirmed  deaths   active       fips\n",
              "1         Arkansas    21420.0   222.0  21198.0   [5143.0]\n",
              "14       Minnesota    18467.0   190.0  18277.0  [27163.0]\n",
              "25       Tennessee    10223.0   165.0  10058.0  [47179.0]\n",
              "13        Maryland     8206.0   149.0   8057.0  [24043.0]\n",
              "22          Oregon    16070.0   141.0  15929.0  [41067.0]\n",
              "23    Pennsylvania     8947.0   131.0   8816.0  [42125.0]\n",
              "15     Mississippi     4259.0   116.0   4143.0  [28151.0]\n",
              "24    Rhode Island     4482.0   114.0   4368.0  [44009.0]\n",
              "30       Wisconsin    13185.0   102.0  13083.0  [55131.0]\n",
              "11       Louisiana     3135.0    87.0   3048.0  [22117.0]\n",
              "21        Oklahoma     3129.0    60.0   3069.0  [40147.0]\n",
              "26           Texas     1481.0    60.0   1421.0  [48477.0]\n",
              "4          Georgia     1387.0    46.0   1341.0  [13303.0]\n",
              "29        Virginia     2970.0    44.0   2926.0  [51191.0]\n",
              "16        Missouri     1780.0    39.0   1741.0  [29221.0]\n",
              "20            Ohio     2996.0    38.0   2958.0  [39167.0]\n",
              "3          Florida     1971.0    31.0   1941.0  [12133.0]\n",
              "8             Iowa     1882.0    28.0   1854.0  [19183.0]\n",
              "0          Alabama     1184.0    24.0   1160.0   [1129.0]\n",
              "6         Illinois     1225.0    24.0   1201.0  [17189.0]\n",
              "17        Nebraska     1627.0    17.0   1610.0  [31177.0]\n",
              "7          Indiana     1432.0    16.0   1416.0  [18175.0]\n",
              "18        New York      825.0    15.0    810.0  [36115.0]\n",
              "5            Idaho      994.0    14.0    980.0  [16087.0]\n",
              "19  North Carolina      444.0    10.0    434.0  [37187.0]\n",
              "2         Colorado      347.0    10.0    337.0   [8121.0]\n",
              "10        Kentucky      869.0     9.0    860.0  [21229.0]\n",
              "28         Vermont      884.0     9.0    875.0  [50023.0]\n",
              "9           Kansas      436.0     8.0    428.0  [20201.0]\n",
              "12           Maine      377.0     2.0    375.0  [23029.0]\n",
              "27            Utah       77.0     1.0     76.0  [49053.0]"
            ],
            "text/html": [
              "\n",
              "  <div id=\"df-14d69c62-bb76-4c61-a2ad-4a6deb64767d\">\n",
              "    <div class=\"colab-df-container\">\n",
              "      <div>\n",
              "<style scoped>\n",
              "    .dataframe tbody tr th:only-of-type {\n",
              "        vertical-align: middle;\n",
              "    }\n",
              "\n",
              "    .dataframe tbody tr th {\n",
              "        vertical-align: top;\n",
              "    }\n",
              "\n",
              "    .dataframe thead th {\n",
              "        text-align: right;\n",
              "    }\n",
              "</style>\n",
              "<table border=\"1\" class=\"dataframe\">\n",
              "  <thead>\n",
              "    <tr style=\"text-align: right;\">\n",
              "      <th></th>\n",
              "      <th>province_state</th>\n",
              "      <th>confirmed</th>\n",
              "      <th>deaths</th>\n",
              "      <th>active</th>\n",
              "      <th>fips</th>\n",
              "    </tr>\n",
              "  </thead>\n",
              "  <tbody>\n",
              "    <tr>\n",
              "      <th>1</th>\n",
              "      <td>Arkansas</td>\n",
              "      <td>21420.0</td>\n",
              "      <td>222.0</td>\n",
              "      <td>21198.0</td>\n",
              "      <td>[5143.0]</td>\n",
              "    </tr>\n",
              "    <tr>\n",
              "      <th>14</th>\n",
              "      <td>Minnesota</td>\n",
              "      <td>18467.0</td>\n",
              "      <td>190.0</td>\n",
              "      <td>18277.0</td>\n",
              "      <td>[27163.0]</td>\n",
              "    </tr>\n",
              "    <tr>\n",
              "      <th>25</th>\n",
              "      <td>Tennessee</td>\n",
              "      <td>10223.0</td>\n",
              "      <td>165.0</td>\n",
              "      <td>10058.0</td>\n",
              "      <td>[47179.0]</td>\n",
              "    </tr>\n",
              "    <tr>\n",
              "      <th>13</th>\n",
              "      <td>Maryland</td>\n",
              "      <td>8206.0</td>\n",
              "      <td>149.0</td>\n",
              "      <td>8057.0</td>\n",
              "      <td>[24043.0]</td>\n",
              "    </tr>\n",
              "    <tr>\n",
              "      <th>22</th>\n",
              "      <td>Oregon</td>\n",
              "      <td>16070.0</td>\n",
              "      <td>141.0</td>\n",
              "      <td>15929.0</td>\n",
              "      <td>[41067.0]</td>\n",
              "    </tr>\n",
              "    <tr>\n",
              "      <th>23</th>\n",
              "      <td>Pennsylvania</td>\n",
              "      <td>8947.0</td>\n",
              "      <td>131.0</td>\n",
              "      <td>8816.0</td>\n",
              "      <td>[42125.0]</td>\n",
              "    </tr>\n",
              "    <tr>\n",
              "      <th>15</th>\n",
              "      <td>Mississippi</td>\n",
              "      <td>4259.0</td>\n",
              "      <td>116.0</td>\n",
              "      <td>4143.0</td>\n",
              "      <td>[28151.0]</td>\n",
              "    </tr>\n",
              "    <tr>\n",
              "      <th>24</th>\n",
              "      <td>Rhode Island</td>\n",
              "      <td>4482.0</td>\n",
              "      <td>114.0</td>\n",
              "      <td>4368.0</td>\n",
              "      <td>[44009.0]</td>\n",
              "    </tr>\n",
              "    <tr>\n",
              "      <th>30</th>\n",
              "      <td>Wisconsin</td>\n",
              "      <td>13185.0</td>\n",
              "      <td>102.0</td>\n",
              "      <td>13083.0</td>\n",
              "      <td>[55131.0]</td>\n",
              "    </tr>\n",
              "    <tr>\n",
              "      <th>11</th>\n",
              "      <td>Louisiana</td>\n",
              "      <td>3135.0</td>\n",
              "      <td>87.0</td>\n",
              "      <td>3048.0</td>\n",
              "      <td>[22117.0]</td>\n",
              "    </tr>\n",
              "    <tr>\n",
              "      <th>21</th>\n",
              "      <td>Oklahoma</td>\n",
              "      <td>3129.0</td>\n",
              "      <td>60.0</td>\n",
              "      <td>3069.0</td>\n",
              "      <td>[40147.0]</td>\n",
              "    </tr>\n",
              "    <tr>\n",
              "      <th>26</th>\n",
              "      <td>Texas</td>\n",
              "      <td>1481.0</td>\n",
              "      <td>60.0</td>\n",
              "      <td>1421.0</td>\n",
              "      <td>[48477.0]</td>\n",
              "    </tr>\n",
              "    <tr>\n",
              "      <th>4</th>\n",
              "      <td>Georgia</td>\n",
              "      <td>1387.0</td>\n",
              "      <td>46.0</td>\n",
              "      <td>1341.0</td>\n",
              "      <td>[13303.0]</td>\n",
              "    </tr>\n",
              "    <tr>\n",
              "      <th>29</th>\n",
              "      <td>Virginia</td>\n",
              "      <td>2970.0</td>\n",
              "      <td>44.0</td>\n",
              "      <td>2926.0</td>\n",
              "      <td>[51191.0]</td>\n",
              "    </tr>\n",
              "    <tr>\n",
              "      <th>16</th>\n",
              "      <td>Missouri</td>\n",
              "      <td>1780.0</td>\n",
              "      <td>39.0</td>\n",
              "      <td>1741.0</td>\n",
              "      <td>[29221.0]</td>\n",
              "    </tr>\n",
              "    <tr>\n",
              "      <th>20</th>\n",
              "      <td>Ohio</td>\n",
              "      <td>2996.0</td>\n",
              "      <td>38.0</td>\n",
              "      <td>2958.0</td>\n",
              "      <td>[39167.0]</td>\n",
              "    </tr>\n",
              "    <tr>\n",
              "      <th>3</th>\n",
              "      <td>Florida</td>\n",
              "      <td>1971.0</td>\n",
              "      <td>31.0</td>\n",
              "      <td>1941.0</td>\n",
              "      <td>[12133.0]</td>\n",
              "    </tr>\n",
              "    <tr>\n",
              "      <th>8</th>\n",
              "      <td>Iowa</td>\n",
              "      <td>1882.0</td>\n",
              "      <td>28.0</td>\n",
              "      <td>1854.0</td>\n",
              "      <td>[19183.0]</td>\n",
              "    </tr>\n",
              "    <tr>\n",
              "      <th>0</th>\n",
              "      <td>Alabama</td>\n",
              "      <td>1184.0</td>\n",
              "      <td>24.0</td>\n",
              "      <td>1160.0</td>\n",
              "      <td>[1129.0]</td>\n",
              "    </tr>\n",
              "    <tr>\n",
              "      <th>6</th>\n",
              "      <td>Illinois</td>\n",
              "      <td>1225.0</td>\n",
              "      <td>24.0</td>\n",
              "      <td>1201.0</td>\n",
              "      <td>[17189.0]</td>\n",
              "    </tr>\n",
              "    <tr>\n",
              "      <th>17</th>\n",
              "      <td>Nebraska</td>\n",
              "      <td>1627.0</td>\n",
              "      <td>17.0</td>\n",
              "      <td>1610.0</td>\n",
              "      <td>[31177.0]</td>\n",
              "    </tr>\n",
              "    <tr>\n",
              "      <th>7</th>\n",
              "      <td>Indiana</td>\n",
              "      <td>1432.0</td>\n",
              "      <td>16.0</td>\n",
              "      <td>1416.0</td>\n",
              "      <td>[18175.0]</td>\n",
              "    </tr>\n",
              "    <tr>\n",
              "      <th>18</th>\n",
              "      <td>New York</td>\n",
              "      <td>825.0</td>\n",
              "      <td>15.0</td>\n",
              "      <td>810.0</td>\n",
              "      <td>[36115.0]</td>\n",
              "    </tr>\n",
              "    <tr>\n",
              "      <th>5</th>\n",
              "      <td>Idaho</td>\n",
              "      <td>994.0</td>\n",
              "      <td>14.0</td>\n",
              "      <td>980.0</td>\n",
              "      <td>[16087.0]</td>\n",
              "    </tr>\n",
              "    <tr>\n",
              "      <th>19</th>\n",
              "      <td>North Carolina</td>\n",
              "      <td>444.0</td>\n",
              "      <td>10.0</td>\n",
              "      <td>434.0</td>\n",
              "      <td>[37187.0]</td>\n",
              "    </tr>\n",
              "    <tr>\n",
              "      <th>2</th>\n",
              "      <td>Colorado</td>\n",
              "      <td>347.0</td>\n",
              "      <td>10.0</td>\n",
              "      <td>337.0</td>\n",
              "      <td>[8121.0]</td>\n",
              "    </tr>\n",
              "    <tr>\n",
              "      <th>10</th>\n",
              "      <td>Kentucky</td>\n",
              "      <td>869.0</td>\n",
              "      <td>9.0</td>\n",
              "      <td>860.0</td>\n",
              "      <td>[21229.0]</td>\n",
              "    </tr>\n",
              "    <tr>\n",
              "      <th>28</th>\n",
              "      <td>Vermont</td>\n",
              "      <td>884.0</td>\n",
              "      <td>9.0</td>\n",
              "      <td>875.0</td>\n",
              "      <td>[50023.0]</td>\n",
              "    </tr>\n",
              "    <tr>\n",
              "      <th>9</th>\n",
              "      <td>Kansas</td>\n",
              "      <td>436.0</td>\n",
              "      <td>8.0</td>\n",
              "      <td>428.0</td>\n",
              "      <td>[20201.0]</td>\n",
              "    </tr>\n",
              "    <tr>\n",
              "      <th>12</th>\n",
              "      <td>Maine</td>\n",
              "      <td>377.0</td>\n",
              "      <td>2.0</td>\n",
              "      <td>375.0</td>\n",
              "      <td>[23029.0]</td>\n",
              "    </tr>\n",
              "    <tr>\n",
              "      <th>27</th>\n",
              "      <td>Utah</td>\n",
              "      <td>77.0</td>\n",
              "      <td>1.0</td>\n",
              "      <td>76.0</td>\n",
              "      <td>[49053.0]</td>\n",
              "    </tr>\n",
              "  </tbody>\n",
              "</table>\n",
              "</div>\n",
              "      <button class=\"colab-df-convert\" onclick=\"convertToInteractive('df-14d69c62-bb76-4c61-a2ad-4a6deb64767d')\"\n",
              "              title=\"Convert this dataframe to an interactive table.\"\n",
              "              style=\"display:none;\">\n",
              "        \n",
              "  <svg xmlns=\"http://www.w3.org/2000/svg\" height=\"24px\"viewBox=\"0 0 24 24\"\n",
              "       width=\"24px\">\n",
              "    <path d=\"M0 0h24v24H0V0z\" fill=\"none\"/>\n",
              "    <path d=\"M18.56 5.44l.94 2.06.94-2.06 2.06-.94-2.06-.94-.94-2.06-.94 2.06-2.06.94zm-11 1L8.5 8.5l.94-2.06 2.06-.94-2.06-.94L8.5 2.5l-.94 2.06-2.06.94zm10 10l.94 2.06.94-2.06 2.06-.94-2.06-.94-.94-2.06-.94 2.06-2.06.94z\"/><path d=\"M17.41 7.96l-1.37-1.37c-.4-.4-.92-.59-1.43-.59-.52 0-1.04.2-1.43.59L10.3 9.45l-7.72 7.72c-.78.78-.78 2.05 0 2.83L4 21.41c.39.39.9.59 1.41.59.51 0 1.02-.2 1.41-.59l7.78-7.78 2.81-2.81c.8-.78.8-2.07 0-2.86zM5.41 20L4 18.59l7.72-7.72 1.47 1.35L5.41 20z\"/>\n",
              "  </svg>\n",
              "      </button>\n",
              "      \n",
              "  <style>\n",
              "    .colab-df-container {\n",
              "      display:flex;\n",
              "      flex-wrap:wrap;\n",
              "      gap: 12px;\n",
              "    }\n",
              "\n",
              "    .colab-df-convert {\n",
              "      background-color: #E8F0FE;\n",
              "      border: none;\n",
              "      border-radius: 50%;\n",
              "      cursor: pointer;\n",
              "      display: none;\n",
              "      fill: #1967D2;\n",
              "      height: 32px;\n",
              "      padding: 0 0 0 0;\n",
              "      width: 32px;\n",
              "    }\n",
              "\n",
              "    .colab-df-convert:hover {\n",
              "      background-color: #E2EBFA;\n",
              "      box-shadow: 0px 1px 2px rgba(60, 64, 67, 0.3), 0px 1px 3px 1px rgba(60, 64, 67, 0.15);\n",
              "      fill: #174EA6;\n",
              "    }\n",
              "\n",
              "    [theme=dark] .colab-df-convert {\n",
              "      background-color: #3B4455;\n",
              "      fill: #D2E3FC;\n",
              "    }\n",
              "\n",
              "    [theme=dark] .colab-df-convert:hover {\n",
              "      background-color: #434B5C;\n",
              "      box-shadow: 0px 1px 3px 1px rgba(0, 0, 0, 0.15);\n",
              "      filter: drop-shadow(0px 1px 2px rgba(0, 0, 0, 0.3));\n",
              "      fill: #FFFFFF;\n",
              "    }\n",
              "  </style>\n",
              "\n",
              "      <script>\n",
              "        const buttonEl =\n",
              "          document.querySelector('#df-14d69c62-bb76-4c61-a2ad-4a6deb64767d button.colab-df-convert');\n",
              "        buttonEl.style.display =\n",
              "          google.colab.kernel.accessAllowed ? 'block' : 'none';\n",
              "\n",
              "        async function convertToInteractive(key) {\n",
              "          const element = document.querySelector('#df-14d69c62-bb76-4c61-a2ad-4a6deb64767d');\n",
              "          const dataTable =\n",
              "            await google.colab.kernel.invokeFunction('convertToInteractive',\n",
              "                                                     [key], {});\n",
              "          if (!dataTable) return;\n",
              "\n",
              "          const docLinkHtml = 'Like what you see? Visit the ' +\n",
              "            '<a target=\"_blank\" href=https://colab.research.google.com/notebooks/data_table.ipynb>data table notebook</a>'\n",
              "            + ' to learn more about interactive tables.';\n",
              "          element.innerHTML = '';\n",
              "          dataTable['output_type'] = 'display_data';\n",
              "          await google.colab.output.renderOutput(dataTable, element);\n",
              "          const docLink = document.createElement('div');\n",
              "          docLink.innerHTML = docLinkHtml;\n",
              "          element.appendChild(docLink);\n",
              "        }\n",
              "      </script>\n",
              "    </div>\n",
              "  </div>\n",
              "  "
            ]
          },
          "metadata": {},
          "execution_count": 34
        }
      ]
    },
    {
      "cell_type": "markdown",
      "source": [
        "Tabel diatas memperlihatkan admin2 Washington mendata kasus Covid 31 provinsi berbeda dari total 52 provinsi diUS selama tahun 2020. data covid yang ditampilkan memuat data kasus paling tinggi pada tiap provinsi selama 2020, dengan kolom fips sebagai kode lokasi detail(kabupaten) di US"
      ],
      "metadata": {
        "id": "4OAeqWv3l5oS"
      }
    },
    {
      "cell_type": "markdown",
      "source": [],
      "metadata": {
        "id": "BgNzfi4DX-K2"
      }
    },
    {
      "cell_type": "code",
      "source": [
        "#menampilkan data kasus Covid di US pada tahun 2020 berdasarkan masing-masing admin2  \n",
        "admin2_covid_death = covid_us[\n",
        "          (covid_us[\"date\"].dt.year == 2020) &\n",
        "#mengambil data tabel pada kolom date hanya pada tahun 2020\n",
        "          (covid_us[\"admin2\"] != 'Unassigned')\n",
        "#mengambil data tabel hanya pada kolom admin2 dengan tanpa data Unassigned \n",
        "].groupby('admin2', as_index=False).agg({'confirmed':'max', 'deaths':'max', 'active':'max', 'fips':'nunique'}).sort_values('confirmed', ascending=False)\n",
        "#menampilkan tabel dengan admin2 sebagai acuan, confirmed, deaths,\tactive, diatur data tertinggi yang didata admin2 dan fips menunjukan jumlah kabupaten yang didata\n",
        "#diurutkan berdasarkan corfirmed kasus paling tinggi kerendah \n",
        "admin2_covid_death"
      ],
      "metadata": {
        "colab": {
          "base_uri": "https://localhost:8080/",
          "height": 423
        },
        "id": "FzXa771pgfM5",
        "outputId": "e6da6a26-4b60-418a-a847-31784fe77ccd"
      },
      "execution_count": null,
      "outputs": [
        {
          "output_type": "execute_result",
          "data": {
            "text/plain": [
              "                  admin2  confirmed   deaths    active  fips\n",
              "1030         Los Angeles   770602.0  10345.0  760257.0     1\n",
              "414                 Cook   393652.0   8285.0  385367.0     3\n",
              "1072            Maricopa   318827.0   5110.0  313717.0     1\n",
              "1138          Miami-Dade   298873.0   4188.0  294685.0     1\n",
              "761               Harris   237727.0   3402.0  234325.0     2\n",
              "...                  ...        ...      ...       ...   ...\n",
              "1530             Sanpete        0.0      0.0       0.0     1\n",
              "966   Lake and Peninsula        0.0      0.0       0.0     1\n",
              "809        Hoonah-Angoon        0.0      0.0       0.0     1\n",
              "885                 Juab        0.0      0.0       0.0     1\n",
              "892              Kalawao        0.0      0.0       0.0     1\n",
              "\n",
              "[1922 rows x 5 columns]"
            ],
            "text/html": [
              "\n",
              "  <div id=\"df-44a6db02-a741-4d4c-80ee-8ed0a6d74d7f\">\n",
              "    <div class=\"colab-df-container\">\n",
              "      <div>\n",
              "<style scoped>\n",
              "    .dataframe tbody tr th:only-of-type {\n",
              "        vertical-align: middle;\n",
              "    }\n",
              "\n",
              "    .dataframe tbody tr th {\n",
              "        vertical-align: top;\n",
              "    }\n",
              "\n",
              "    .dataframe thead th {\n",
              "        text-align: right;\n",
              "    }\n",
              "</style>\n",
              "<table border=\"1\" class=\"dataframe\">\n",
              "  <thead>\n",
              "    <tr style=\"text-align: right;\">\n",
              "      <th></th>\n",
              "      <th>admin2</th>\n",
              "      <th>confirmed</th>\n",
              "      <th>deaths</th>\n",
              "      <th>active</th>\n",
              "      <th>fips</th>\n",
              "    </tr>\n",
              "  </thead>\n",
              "  <tbody>\n",
              "    <tr>\n",
              "      <th>1030</th>\n",
              "      <td>Los Angeles</td>\n",
              "      <td>770602.0</td>\n",
              "      <td>10345.0</td>\n",
              "      <td>760257.0</td>\n",
              "      <td>1</td>\n",
              "    </tr>\n",
              "    <tr>\n",
              "      <th>414</th>\n",
              "      <td>Cook</td>\n",
              "      <td>393652.0</td>\n",
              "      <td>8285.0</td>\n",
              "      <td>385367.0</td>\n",
              "      <td>3</td>\n",
              "    </tr>\n",
              "    <tr>\n",
              "      <th>1072</th>\n",
              "      <td>Maricopa</td>\n",
              "      <td>318827.0</td>\n",
              "      <td>5110.0</td>\n",
              "      <td>313717.0</td>\n",
              "      <td>1</td>\n",
              "    </tr>\n",
              "    <tr>\n",
              "      <th>1138</th>\n",
              "      <td>Miami-Dade</td>\n",
              "      <td>298873.0</td>\n",
              "      <td>4188.0</td>\n",
              "      <td>294685.0</td>\n",
              "      <td>1</td>\n",
              "    </tr>\n",
              "    <tr>\n",
              "      <th>761</th>\n",
              "      <td>Harris</td>\n",
              "      <td>237727.0</td>\n",
              "      <td>3402.0</td>\n",
              "      <td>234325.0</td>\n",
              "      <td>2</td>\n",
              "    </tr>\n",
              "    <tr>\n",
              "      <th>...</th>\n",
              "      <td>...</td>\n",
              "      <td>...</td>\n",
              "      <td>...</td>\n",
              "      <td>...</td>\n",
              "      <td>...</td>\n",
              "    </tr>\n",
              "    <tr>\n",
              "      <th>1530</th>\n",
              "      <td>Sanpete</td>\n",
              "      <td>0.0</td>\n",
              "      <td>0.0</td>\n",
              "      <td>0.0</td>\n",
              "      <td>1</td>\n",
              "    </tr>\n",
              "    <tr>\n",
              "      <th>966</th>\n",
              "      <td>Lake and Peninsula</td>\n",
              "      <td>0.0</td>\n",
              "      <td>0.0</td>\n",
              "      <td>0.0</td>\n",
              "      <td>1</td>\n",
              "    </tr>\n",
              "    <tr>\n",
              "      <th>809</th>\n",
              "      <td>Hoonah-Angoon</td>\n",
              "      <td>0.0</td>\n",
              "      <td>0.0</td>\n",
              "      <td>0.0</td>\n",
              "      <td>1</td>\n",
              "    </tr>\n",
              "    <tr>\n",
              "      <th>885</th>\n",
              "      <td>Juab</td>\n",
              "      <td>0.0</td>\n",
              "      <td>0.0</td>\n",
              "      <td>0.0</td>\n",
              "      <td>1</td>\n",
              "    </tr>\n",
              "    <tr>\n",
              "      <th>892</th>\n",
              "      <td>Kalawao</td>\n",
              "      <td>0.0</td>\n",
              "      <td>0.0</td>\n",
              "      <td>0.0</td>\n",
              "      <td>1</td>\n",
              "    </tr>\n",
              "  </tbody>\n",
              "</table>\n",
              "<p>1922 rows × 5 columns</p>\n",
              "</div>\n",
              "      <button class=\"colab-df-convert\" onclick=\"convertToInteractive('df-44a6db02-a741-4d4c-80ee-8ed0a6d74d7f')\"\n",
              "              title=\"Convert this dataframe to an interactive table.\"\n",
              "              style=\"display:none;\">\n",
              "        \n",
              "  <svg xmlns=\"http://www.w3.org/2000/svg\" height=\"24px\"viewBox=\"0 0 24 24\"\n",
              "       width=\"24px\">\n",
              "    <path d=\"M0 0h24v24H0V0z\" fill=\"none\"/>\n",
              "    <path d=\"M18.56 5.44l.94 2.06.94-2.06 2.06-.94-2.06-.94-.94-2.06-.94 2.06-2.06.94zm-11 1L8.5 8.5l.94-2.06 2.06-.94-2.06-.94L8.5 2.5l-.94 2.06-2.06.94zm10 10l.94 2.06.94-2.06 2.06-.94-2.06-.94-.94-2.06-.94 2.06-2.06.94z\"/><path d=\"M17.41 7.96l-1.37-1.37c-.4-.4-.92-.59-1.43-.59-.52 0-1.04.2-1.43.59L10.3 9.45l-7.72 7.72c-.78.78-.78 2.05 0 2.83L4 21.41c.39.39.9.59 1.41.59.51 0 1.02-.2 1.41-.59l7.78-7.78 2.81-2.81c.8-.78.8-2.07 0-2.86zM5.41 20L4 18.59l7.72-7.72 1.47 1.35L5.41 20z\"/>\n",
              "  </svg>\n",
              "      </button>\n",
              "      \n",
              "  <style>\n",
              "    .colab-df-container {\n",
              "      display:flex;\n",
              "      flex-wrap:wrap;\n",
              "      gap: 12px;\n",
              "    }\n",
              "\n",
              "    .colab-df-convert {\n",
              "      background-color: #E8F0FE;\n",
              "      border: none;\n",
              "      border-radius: 50%;\n",
              "      cursor: pointer;\n",
              "      display: none;\n",
              "      fill: #1967D2;\n",
              "      height: 32px;\n",
              "      padding: 0 0 0 0;\n",
              "      width: 32px;\n",
              "    }\n",
              "\n",
              "    .colab-df-convert:hover {\n",
              "      background-color: #E2EBFA;\n",
              "      box-shadow: 0px 1px 2px rgba(60, 64, 67, 0.3), 0px 1px 3px 1px rgba(60, 64, 67, 0.15);\n",
              "      fill: #174EA6;\n",
              "    }\n",
              "\n",
              "    [theme=dark] .colab-df-convert {\n",
              "      background-color: #3B4455;\n",
              "      fill: #D2E3FC;\n",
              "    }\n",
              "\n",
              "    [theme=dark] .colab-df-convert:hover {\n",
              "      background-color: #434B5C;\n",
              "      box-shadow: 0px 1px 3px 1px rgba(0, 0, 0, 0.15);\n",
              "      filter: drop-shadow(0px 1px 2px rgba(0, 0, 0, 0.3));\n",
              "      fill: #FFFFFF;\n",
              "    }\n",
              "  </style>\n",
              "\n",
              "      <script>\n",
              "        const buttonEl =\n",
              "          document.querySelector('#df-44a6db02-a741-4d4c-80ee-8ed0a6d74d7f button.colab-df-convert');\n",
              "        buttonEl.style.display =\n",
              "          google.colab.kernel.accessAllowed ? 'block' : 'none';\n",
              "\n",
              "        async function convertToInteractive(key) {\n",
              "          const element = document.querySelector('#df-44a6db02-a741-4d4c-80ee-8ed0a6d74d7f');\n",
              "          const dataTable =\n",
              "            await google.colab.kernel.invokeFunction('convertToInteractive',\n",
              "                                                     [key], {});\n",
              "          if (!dataTable) return;\n",
              "\n",
              "          const docLinkHtml = 'Like what you see? Visit the ' +\n",
              "            '<a target=\"_blank\" href=https://colab.research.google.com/notebooks/data_table.ipynb>data table notebook</a>'\n",
              "            + ' to learn more about interactive tables.';\n",
              "          element.innerHTML = '';\n",
              "          dataTable['output_type'] = 'display_data';\n",
              "          await google.colab.output.renderOutput(dataTable, element);\n",
              "          const docLink = document.createElement('div');\n",
              "          docLink.innerHTML = docLinkHtml;\n",
              "          element.appendChild(docLink);\n",
              "        }\n",
              "      </script>\n",
              "    </div>\n",
              "  </div>\n",
              "  "
            ]
          },
          "metadata": {},
          "execution_count": 35
        }
      ]
    },
    {
      "cell_type": "markdown",
      "source": [
        "Tabel diatas menampilkan data kasus Covid di US dengan masing-masing admin2 yang bertanggung jawab dengan data, dimana terdapat sebanyak 1935 admin2. akumulasi kasus covid tertinggi tercatat pada Los Angeles  "
      ],
      "metadata": {
        "id": "jXrfjef8bZcs"
      }
    },
    {
      "cell_type": "markdown",
      "source": [
        "## visualisasi data"
      ],
      "metadata": {
        "id": "dKuVusEFvNhP"
      }
    },
    {
      "cell_type": "code",
      "source": [
        "%matplotlib inline"
      ],
      "metadata": {
        "id": "-9fJAJT_vRZu"
      },
      "execution_count": null,
      "outputs": []
    },
    {
      "cell_type": "code",
      "source": [
        "Texas_Covid_2020.plot()"
      ],
      "metadata": {
        "colab": {
          "base_uri": "https://localhost:8080/",
          "height": 449
        },
        "id": "tJuCH--cv-ed",
        "outputId": "c886c8b1-240d-4307-8de2-29fce86436d6"
      },
      "execution_count": null,
      "outputs": [
        {
          "output_type": "execute_result",
          "data": {
            "text/plain": [
              "<Axes: >"
            ]
          },
          "metadata": {},
          "execution_count": 37
        },
        {
          "output_type": "display_data",
          "data": {
            "text/plain": [
              "<Figure size 640x480 with 1 Axes>"
            ],
            "image/png": "[encoded data removed]"
          },
          "metadata": {}
        }
      ]
    },
    {
      "cell_type": "markdown",
      "source": [
        "grafik diatas memperlihatkan trend covid yang terjadi pada texas selama tahun 2020, dengan total 284 hari data update data yang ditampilkan adalah data akumulasi dari data kasus hari sebelumnya. Sumbu x adalah nilai dari kasus covid, dan sumbu y adalah index dari data"
      ],
      "metadata": {
        "id": "XGTb372lx4Zo"
      }
    },
    {
      "cell_type": "code",
      "source": [
        "covid2020_by_washington.plot(kind=\"bar\")"
      ],
      "metadata": {
        "colab": {
          "base_uri": "https://localhost:8080/",
          "height": 451
        },
        "id": "UlAPYFR-wH6X",
        "outputId": "27b2fb3d-de0f-47f6-9664-c53ed84f5efa"
      },
      "execution_count": null,
      "outputs": [
        {
          "output_type": "execute_result",
          "data": {
            "text/plain": [
              "<Axes: >"
            ]
          },
          "metadata": {},
          "execution_count": 38
        },
        {
          "output_type": "display_data",
          "data": {
            "text/plain": [
              "<Figure size 640x480 with 1 Axes>"
            ],
            "image/png": "[encoded data removed]"
          },
          "metadata": {}
        }
      ]
    },
    {
      "cell_type": "markdown",
      "source": [
        "grafik diatas memperlihatkan admin2 Washington mendata kasus Covid 31 provinsi berbeda diUS selama tahun 2020. data covid yang ditampilkan memuat data kasus paling tinggi pada tiap provinsi selama 2020, diurutkan berdasarkan tingkat kematian ddari tinggi kerendah. Sumbu x adalah nilai dari kasus covid, dan sumbu y adalah index dari data"
      ],
      "metadata": {
        "id": "YwKNFJLUzQDJ"
      }
    },
    {
      "cell_type": "code",
      "source": [
        "admin2_covid_death.head(10).plot(kind=\"bar\")"
      ],
      "metadata": {
        "colab": {
          "base_uri": "https://localhost:8080/",
          "height": 470
        },
        "id": "PUZjho9xvikd",
        "outputId": "d837fb05-47f5-4eba-9429-7d4edd8603b0"
      },
      "execution_count": null,
      "outputs": [
        {
          "output_type": "execute_result",
          "data": {
            "text/plain": [
              "<Axes: >"
            ]
          },
          "metadata": {},
          "execution_count": 39
        },
        {
          "output_type": "display_data",
          "data": {
            "text/plain": [
              "<Figure size 640x480 with 1 Axes>"
            ],
            "image/png": "[encoded data removed]"
          },
          "metadata": {}
        }
      ]
    },
    {
      "cell_type": "markdown",
      "source": [
        "grafik diatas menampilkan data kasus Covid di US dengan 10 admin2. akumulasi kasus covid tertinggi tercatat pada admin2 dengan nomor index 1030. Sumbu x adalah nilai dari kasus covid, dan sumbu y adalah index dari data"
      ],
      "metadata": {
        "id": "vEimkeTrzXPi"
      }
    },
    {
      "cell_type": "markdown",
      "source": [
        "# vi kesimpulan\n",
        "\n"
      ],
      "metadata": {
        "id": "3pO3Okr3zf93"
      }
    },
    {
      "cell_type": "markdown",
      "source": [
        "Kesimpulan dari data yang saya kerjakan adalah memperlihatkan pendataan data Covid di US pada tahun 2020 dengan pembaharuan data selama 284 hari. Terdapat 52 provinci state, dan 3287 fips sebagai code countis di US yang terdata dengan admin2 sebanyak 1935 yang bertanggung jawab dengan data."
      ],
      "metadata": {
        "id": "lrQm3q9E0_ct"
      }
    }
  ]
}